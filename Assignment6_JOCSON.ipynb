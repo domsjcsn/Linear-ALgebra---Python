{
  "nbformat": 4,
  "nbformat_minor": 0,
  "metadata": {
    "colab": {
      "name": "ASSIGNMENT6.ipynb",
      "provenance": [],
      "collapsed_sections": [],
      "authorship_tag": "ABX9TyOEcRhXrmn60OndeIQpd1CU",
      "include_colab_link": true
    },
    "kernelspec": {
      "name": "python3",
      "display_name": "Python 3"
    },
    "language_info": {
      "name": "python"
    }
  },
  "cells": [
    {
      "cell_type": "markdown",
      "metadata": {
        "id": "view-in-github",
        "colab_type": "text"
      },
      "source": [
        "<a href=\"https://colab.research.google.com/github/domsjcsn/Linear-ALgebra---Python/blob/main/Assignment6_JOCSON.ipynb\" target=\"_parent\"><img src=\"https://colab.research.google.com/assets/colab-badge.svg\" alt=\"Open In Colab\"/></a>"
      ]
    },
    {
      "cell_type": "markdown",
      "metadata": {
        "id": "1P9Pu1ZbXr0P"
      },
      "source": [
        "# ***Linear Algebra for ECE***"
      ]
    },
    {
      "cell_type": "markdown",
      "metadata": {
        "id": "H-CUQgrGXrlq"
      },
      "source": [
        "### Laboratory 6: Matrix Operations\n",
        "Now that you have a fundamental knowledge about representing and operating with vectors as well as the fundamentals of matrices, we'll try to the same operations with matrices and even more"
      ]
    },
    {
      "cell_type": "markdown",
      "metadata": {
        "id": "Cp_oyxapXxhf"
      },
      "source": [
        "## **Objectives**\n",
        "\n",
        "At the end of this activity you will be able to:\n",
        "1. Be familiar with the fundamental matrix operations.\n",
        "2. Apply the operations to solve intermediate equations.\n",
        "3. Apply matrix algebra in engineering solutions."
      ]
    },
    {
      "cell_type": "markdown",
      "metadata": {
        "id": "vE02KelgYEo3"
      },
      "source": [
        "## Discussion"
      ]
    },
    {
      "cell_type": "code",
      "metadata": {
        "id": "_S-hF4u9XWTT"
      },
      "source": [
        "import numpy as np\n",
        "import matplotlib.pyplot as plt\n",
        "%matplotlib inline"
      ],
      "execution_count": 127,
      "outputs": []
    },
    {
      "cell_type": "markdown",
      "metadata": {
        "id": "UYEMbtXuX7eV"
      },
      "source": [
        "## Transposition\n",
        "One of the fundamental operations in matrix algebra is Transposition. The transpose of a matrix is done by flipping the values of its elements over its diagonals. With this, the rows and columns from the original matrix will be switched. So for a matrix $A$ its transpose is denoted as $A^T$. So for example:"
      ]
    },
    {
      "cell_type": "markdown",
      "metadata": {
        "id": "0wq6g9KYYSKJ"
      },
      "source": [
        "$$A = \\begin{bmatrix} 1 & 2 & 5\\\\5 & -1 &0 \\\\ 0 & -3 & 3\\end{bmatrix} $$"
      ]
    },
    {
      "cell_type": "markdown",
      "metadata": {
        "id": "fYi36RVgYTuF"
      },
      "source": [
        "$$ A^T = \\begin{bmatrix} 1 & 5 & 0\\\\2 & -1 &-3 \\\\ 5 & 0 & 3\\end{bmatrix}$$"
      ]
    },
    {
      "cell_type": "markdown",
      "metadata": {
        "id": "4wYfOPRyYV1s"
      },
      "source": [
        "This can now be achieved programmatically by using np.transpose() or by using the T method."
      ]
    },
    {
      "cell_type": "code",
      "metadata": {
        "colab": {
          "base_uri": "https://localhost:8080/"
        },
        "id": "cIM6ToyAYa9b",
        "outputId": "c69eef9c-197f-42af-a18f-a34149deda95"
      },
      "source": [
        "A = np.array([\n",
        "    [1 ,2, 5],\n",
        "    [5, -1, 0],\n",
        "    [0, -3, 3]\n",
        "])\n",
        "A"
      ],
      "execution_count": 128,
      "outputs": [
        {
          "output_type": "execute_result",
          "data": {
            "text/plain": [
              "array([[ 1,  2,  5],\n",
              "       [ 5, -1,  0],\n",
              "       [ 0, -3,  3]])"
            ]
          },
          "metadata": {},
          "execution_count": 128
        }
      ]
    },
    {
      "cell_type": "code",
      "metadata": {
        "colab": {
          "base_uri": "https://localhost:8080/"
        },
        "id": "WEqGkw1jYd7q",
        "outputId": "1cf712d6-103a-4234-ed07-df21dacd232d"
      },
      "source": [
        "AT1 = np.transpose(A)\n",
        "AT1"
      ],
      "execution_count": 129,
      "outputs": [
        {
          "output_type": "execute_result",
          "data": {
            "text/plain": [
              "array([[ 1,  5,  0],\n",
              "       [ 2, -1, -3],\n",
              "       [ 5,  0,  3]])"
            ]
          },
          "metadata": {},
          "execution_count": 129
        }
      ]
    },
    {
      "cell_type": "code",
      "metadata": {
        "colab": {
          "base_uri": "https://localhost:8080/"
        },
        "id": "nk0yM8WHYnPv",
        "outputId": "61c6ef9d-b744-416e-fb70-6a84d5a6ad67"
      },
      "source": [
        "AT2 = A.T\n",
        "AT2"
      ],
      "execution_count": 130,
      "outputs": [
        {
          "output_type": "execute_result",
          "data": {
            "text/plain": [
              "array([[ 1,  5,  0],\n",
              "       [ 2, -1, -3],\n",
              "       [ 5,  0,  3]])"
            ]
          },
          "metadata": {},
          "execution_count": 130
        }
      ]
    },
    {
      "cell_type": "code",
      "metadata": {
        "colab": {
          "base_uri": "https://localhost:8080/"
        },
        "id": "5AWFk5PUYpR9",
        "outputId": "c7cbe37b-2bcc-48d2-a1bd-78ed9654c381"
      },
      "source": [
        "np.array_equiv(AT1, AT2)"
      ],
      "execution_count": 131,
      "outputs": [
        {
          "output_type": "execute_result",
          "data": {
            "text/plain": [
              "True"
            ]
          },
          "metadata": {},
          "execution_count": 131
        }
      ]
    },
    {
      "cell_type": "code",
      "metadata": {
        "colab": {
          "base_uri": "https://localhost:8080/"
        },
        "id": "7JAXyBmxYqWM",
        "outputId": "4c964720-ae14-4e65-a214-ba97dee5b743"
      },
      "source": [
        "B = np.array([\n",
        "    [1,2,3,4],\n",
        "    [1,0,2,1],\n",
        "])\n",
        "B.shape"
      ],
      "execution_count": 132,
      "outputs": [
        {
          "output_type": "execute_result",
          "data": {
            "text/plain": [
              "(2, 4)"
            ]
          },
          "metadata": {},
          "execution_count": 132
        }
      ]
    },
    {
      "cell_type": "code",
      "metadata": {
        "colab": {
          "base_uri": "https://localhost:8080/"
        },
        "id": "5zw7WpOgYr6Z",
        "outputId": "73695c5a-0963-4a94-f56b-8e0325747ce4"
      },
      "source": [
        "np.transpose(B).shape"
      ],
      "execution_count": 133,
      "outputs": [
        {
          "output_type": "execute_result",
          "data": {
            "text/plain": [
              "(4, 2)"
            ]
          },
          "metadata": {},
          "execution_count": 133
        }
      ]
    },
    {
      "cell_type": "code",
      "metadata": {
        "colab": {
          "base_uri": "https://localhost:8080/"
        },
        "id": "0aIHtSohYtQi",
        "outputId": "e65468c6-82cd-450e-a74a-7953e8bcdd3e"
      },
      "source": [
        "B.T.shape"
      ],
      "execution_count": 134,
      "outputs": [
        {
          "output_type": "execute_result",
          "data": {
            "text/plain": [
              "(4, 2)"
            ]
          },
          "metadata": {},
          "execution_count": 134
        }
      ]
    },
    {
      "cell_type": "markdown",
      "metadata": {
        "id": "zYIkPChYY1fF"
      },
      "source": [
        "Try to create your own matrix (you can try non-squares) to test transposition."
      ]
    },
    {
      "cell_type": "code",
      "metadata": {
        "colab": {
          "base_uri": "https://localhost:8080/"
        },
        "id": "Kr2k7OJyY2Qg",
        "outputId": "fab37ceb-b7b6-4cd9-d081-29272e4b8221"
      },
      "source": [
        "doms = np.array([\n",
        "     [3,2,1],\n",
        "     [7,6,5]\n",
        "\n",
        "])\n",
        "doms.shape"
      ],
      "execution_count": 135,
      "outputs": [
        {
          "output_type": "execute_result",
          "data": {
            "text/plain": [
              "(2, 3)"
            ]
          },
          "metadata": {},
          "execution_count": 135
        }
      ]
    },
    {
      "cell_type": "code",
      "metadata": {
        "colab": {
          "base_uri": "https://localhost:8080/"
        },
        "id": "bCr4bS0wZJxD",
        "outputId": "41f07625-9053-4dc7-8610-03de529ca0a9"
      },
      "source": [
        "np.transpose(doms).shape"
      ],
      "execution_count": 136,
      "outputs": [
        {
          "output_type": "execute_result",
          "data": {
            "text/plain": [
              "(3, 2)"
            ]
          },
          "metadata": {},
          "execution_count": 136
        }
      ]
    },
    {
      "cell_type": "code",
      "metadata": {
        "colab": {
          "base_uri": "https://localhost:8080/"
        },
        "id": "YsON87XZZM1T",
        "outputId": "ec5c7379-33a3-4ee3-b205-02a92b164023"
      },
      "source": [
        "doms.T.shape"
      ],
      "execution_count": 137,
      "outputs": [
        {
          "output_type": "execute_result",
          "data": {
            "text/plain": [
              "(3, 2)"
            ]
          },
          "metadata": {},
          "execution_count": 137
        }
      ]
    },
    {
      "cell_type": "code",
      "metadata": {
        "colab": {
          "base_uri": "https://localhost:8080/"
        },
        "id": "D0jEYoKxZOiM",
        "outputId": "b6ad1758-be4c-4f6a-ddd2-9d7143dbfa5a"
      },
      "source": [
        "domsT = doms.T\n",
        "doms.T"
      ],
      "execution_count": 138,
      "outputs": [
        {
          "output_type": "execute_result",
          "data": {
            "text/plain": [
              "array([[3, 7],\n",
              "       [2, 6],\n",
              "       [1, 5]])"
            ]
          },
          "metadata": {},
          "execution_count": 138
        }
      ]
    },
    {
      "cell_type": "markdown",
      "metadata": {
        "id": "hJtihmjWgASv"
      },
      "source": [
        "## Dot Product / Inner Product"
      ]
    },
    {
      "cell_type": "markdown",
      "metadata": {
        "id": "Ex9uYyYtgDNM"
      },
      "source": [
        "If you recall the dot product from laboratory activity before, we will try to implement the same operation with matrices. In matrix dot product we are going to get the sum of products of the vectors by row-column pairs. So if we have two matrices $X$ and $Y$:\n",
        "\n",
        "$$X = \\begin{bmatrix}x_{(0,0)}&x_{(0,1)}\\\\ x_{(1,0)}&x_{(1,1)}\\end{bmatrix}, Y = \\begin{bmatrix}y_{(0,0)}&y_{(0,1)}\\\\ y_{(1,0)}&y_{(1,1)}\\end{bmatrix}$$\n",
        "\n",
        "The dot product will then be computed as:\n",
        "$$X \\cdot Y= \\begin{bmatrix} x_{(0,0)}*y_{(0,0)} + x_{(0,1)}*y_{(1,0)} & x_{(0,0)}*y_{(0,1)} + x_{(0,1)}*y_{(1,1)} \\\\  x_{(1,0)}*y_{(0,0)} + x_{(1,1)}*y_{(1,0)} & x_{(1,0)}*y_{(0,1)} + x_{(1,1)}*y_{(1,1)}\n",
        "\\end{bmatrix}$$\n",
        "\n",
        "So if we assign values to $X$ and $Y$:\n",
        "$$X = \\begin{bmatrix}1&2\\\\ 0&1\\end{bmatrix}, Y = \\begin{bmatrix}-1&0\\\\ 2&2\\end{bmatrix}$$"
      ]
    },
    {
      "cell_type": "markdown",
      "metadata": {
        "id": "Tofb8tHBgG1W"
      },
      "source": [
        "$$X \\cdot Y= \\begin{bmatrix} 1*-1 + 2*2 & 1*0 + 2*2 \\\\  0*-1 + 1*2 & 0*0 + 1*2 \\end{bmatrix} = \\begin{bmatrix} 3 & 4 \\\\2 & 2 \\end{bmatrix}$$\n",
        "This could be achieved programmatically using `np.dot()`, `np.matmul()` or the `@` operator."
      ]
    },
    {
      "cell_type": "code",
      "metadata": {
        "id": "JEcmE5ypgJAC"
      },
      "source": [
        "X = np.array([\n",
        "    [1,2],\n",
        "    [0,1]\n",
        "])\n",
        "Y = np.array([\n",
        "    [-1,0],\n",
        "    [2,2]\n",
        "])"
      ],
      "execution_count": 139,
      "outputs": []
    },
    {
      "cell_type": "code",
      "metadata": {
        "colab": {
          "base_uri": "https://localhost:8080/"
        },
        "id": "2VJe5X2-gJea",
        "outputId": "f081fbbe-c6e5-4b72-f156-bc7d097fd1a6"
      },
      "source": [
        "np.dot(X,Y)"
      ],
      "execution_count": 140,
      "outputs": [
        {
          "output_type": "execute_result",
          "data": {
            "text/plain": [
              "array([[3, 4],\n",
              "       [2, 2]])"
            ]
          },
          "metadata": {},
          "execution_count": 140
        }
      ]
    },
    {
      "cell_type": "code",
      "metadata": {
        "colab": {
          "base_uri": "https://localhost:8080/"
        },
        "id": "L64zxNDpgJbY",
        "outputId": "d551610d-4923-4475-fd77-ff971721b8d8"
      },
      "source": [
        "X.dot(Y)"
      ],
      "execution_count": 141,
      "outputs": [
        {
          "output_type": "execute_result",
          "data": {
            "text/plain": [
              "array([[3, 4],\n",
              "       [2, 2]])"
            ]
          },
          "metadata": {},
          "execution_count": 141
        }
      ]
    },
    {
      "cell_type": "code",
      "metadata": {
        "colab": {
          "base_uri": "https://localhost:8080/"
        },
        "id": "5oSpeBlxgM5n",
        "outputId": "a4780d6e-9cc5-458e-a37a-ff26ef02d817"
      },
      "source": [
        "X @ Y"
      ],
      "execution_count": 142,
      "outputs": [
        {
          "output_type": "execute_result",
          "data": {
            "text/plain": [
              "array([[3, 4],\n",
              "       [2, 2]])"
            ]
          },
          "metadata": {},
          "execution_count": 142
        }
      ]
    },
    {
      "cell_type": "code",
      "metadata": {
        "colab": {
          "base_uri": "https://localhost:8080/"
        },
        "id": "xq3S6wCNgM3o",
        "outputId": "f820d495-5c68-4260-bc5f-a915eb216faf"
      },
      "source": [
        "np.matmul(X,Y)"
      ],
      "execution_count": 143,
      "outputs": [
        {
          "output_type": "execute_result",
          "data": {
            "text/plain": [
              "array([[3, 4],\n",
              "       [2, 2]])"
            ]
          },
          "metadata": {},
          "execution_count": 143
        }
      ]
    },
    {
      "cell_type": "markdown",
      "metadata": {
        "id": "-q-KaUL4gYy9"
      },
      "source": [
        "### Sample"
      ]
    },
    {
      "cell_type": "code",
      "metadata": {
        "colab": {
          "base_uri": "https://localhost:8080/"
        },
        "id": "9x-ev6xRgbKL",
        "outputId": "79f705b6-b529-4bbd-db6c-586bf9a64f96"
      },
      "source": [
        "doms1 = np.array([\n",
        "    [3,2,1],\n",
        "    [6,5,4],\n",
        "    [9,8,7]              \n",
        "])\n",
        "\n",
        "doms2 = np.array([\n",
        "    [7,8,9],\n",
        "    [4,5,6],\n",
        "    [1,2,3]              \n",
        "])\n",
        "np.dot(doms1,doms2)"
      ],
      "execution_count": 144,
      "outputs": [
        {
          "output_type": "execute_result",
          "data": {
            "text/plain": [
              "array([[ 30,  36,  42],\n",
              "       [ 66,  81,  96],\n",
              "       [102, 126, 150]])"
            ]
          },
          "metadata": {},
          "execution_count": 144
        }
      ]
    },
    {
      "cell_type": "code",
      "metadata": {
        "colab": {
          "base_uri": "https://localhost:8080/"
        },
        "id": "24O2RdBagyAL",
        "outputId": "a46c41fc-2e4e-4b9c-b78f-00f4a734b1b8"
      },
      "source": [
        "doms1.dot(doms2)"
      ],
      "execution_count": 145,
      "outputs": [
        {
          "output_type": "execute_result",
          "data": {
            "text/plain": [
              "array([[ 30,  36,  42],\n",
              "       [ 66,  81,  96],\n",
              "       [102, 126, 150]])"
            ]
          },
          "metadata": {},
          "execution_count": 145
        }
      ]
    },
    {
      "cell_type": "code",
      "metadata": {
        "colab": {
          "base_uri": "https://localhost:8080/"
        },
        "id": "y_Y9YD2fg0uL",
        "outputId": "eab72e59-db97-4083-d5bb-c2207303a01a"
      },
      "source": [
        "doms1 @ doms2"
      ],
      "execution_count": 146,
      "outputs": [
        {
          "output_type": "execute_result",
          "data": {
            "text/plain": [
              "array([[ 30,  36,  42],\n",
              "       [ 66,  81,  96],\n",
              "       [102, 126, 150]])"
            ]
          },
          "metadata": {},
          "execution_count": 146
        }
      ]
    },
    {
      "cell_type": "code",
      "metadata": {
        "colab": {
          "base_uri": "https://localhost:8080/"
        },
        "id": "Oodf2KLyg2GJ",
        "outputId": "b437ad25-1039-4144-c304-4876e69d5245"
      },
      "source": [
        "np.matmul(doms1,doms2)"
      ],
      "execution_count": 147,
      "outputs": [
        {
          "output_type": "execute_result",
          "data": {
            "text/plain": [
              "array([[ 30,  36,  42],\n",
              "       [ 66,  81,  96],\n",
              "       [102, 126, 150]])"
            ]
          },
          "metadata": {},
          "execution_count": 147
        }
      ]
    },
    {
      "cell_type": "markdown",
      "metadata": {
        "id": "3RbiRyQXg8BL"
      },
      "source": [
        "In matrix dot products there are additional rules compared with vector dot products. Since vector dot products were just in one dimension there are less restrictions. Since now we are dealing with Rank 2 vectors we need to consider some rules:\n",
        "\n",
        "### Rule 1: The inner dimensions of the two matrices in question must be the same. \n",
        "\n",
        "So given a matrix $A$ with a shape of $(a,b)$ where $a$ and $b$ are any integers. If we want to do a dot product between $A$ and another matrix $B$, then matrix $B$ should have a shape of $(b,c)$ where $b$ and $c$ are any integers. So for given the following matrices:\n",
        "\n",
        "$$A = \\begin{bmatrix}2&4\\\\5&-2\\\\0&1\\end{bmatrix}, B = \\begin{bmatrix}1&1\\\\3&3\\\\-1&-2\\end{bmatrix}, C = \\begin{bmatrix}0&1&1\\\\1&1&2\\end{bmatrix}$$\n",
        "\n",
        "So in this case $A$ has a shape of $(3,2)$, $B$ has a shape of $(3,2)$ and $C$ has a shape of $(2,3)$. So the only matrix pairs that is eligible to perform dot product is matrices $A \\cdot C$, or $B \\cdot C$.  "
      ]
    },
    {
      "cell_type": "code",
      "metadata": {
        "colab": {
          "base_uri": "https://localhost:8080/"
        },
        "id": "Fzhet37dg90z",
        "outputId": "f334c17e-e63a-43cd-b5fc-86206b6cd231"
      },
      "source": [
        "A = np.array([\n",
        "    [2,4],\n",
        "    [5,-2],\n",
        "    [0,1]\n",
        "])\n",
        "B = np.array([\n",
        "    [1,1],\n",
        "    [3,3],\n",
        "    [-1,-2]\n",
        "])\n",
        "C = np.array([\n",
        "    [0,1,1],\n",
        "    [1,1,2]\n",
        "])\n",
        "print(A.shape)\n",
        "print(B.shape)\n",
        "print(A.shape)"
      ],
      "execution_count": 148,
      "outputs": [
        {
          "output_type": "stream",
          "name": "stdout",
          "text": [
            "(3, 2)\n",
            "(3, 2)\n",
            "(3, 2)\n"
          ]
        }
      ]
    },
    {
      "cell_type": "code",
      "metadata": {
        "colab": {
          "base_uri": "https://localhost:8080/"
        },
        "id": "UX1kXPU-iFpE",
        "outputId": "d1515f1d-2609-4956-c627-a0ff53773108"
      },
      "source": [
        "A @ C"
      ],
      "execution_count": 149,
      "outputs": [
        {
          "output_type": "execute_result",
          "data": {
            "text/plain": [
              "array([[ 4,  6, 10],\n",
              "       [-2,  3,  1],\n",
              "       [ 1,  1,  2]])"
            ]
          },
          "metadata": {},
          "execution_count": 149
        }
      ]
    },
    {
      "cell_type": "code",
      "metadata": {
        "colab": {
          "base_uri": "https://localhost:8080/"
        },
        "id": "vy9GVtMwiGnj",
        "outputId": "e23fbba8-7972-4977-f3cc-7a8a6edac9b6"
      },
      "source": [
        "B @ C"
      ],
      "execution_count": 150,
      "outputs": [
        {
          "output_type": "execute_result",
          "data": {
            "text/plain": [
              "array([[ 1,  2,  3],\n",
              "       [ 3,  6,  9],\n",
              "       [-2, -3, -5]])"
            ]
          },
          "metadata": {},
          "execution_count": 150
        }
      ]
    },
    {
      "cell_type": "markdown",
      "metadata": {
        "id": "m7JqdFPFiINi"
      },
      "source": [
        "If you would notice the shape of the dot product changed and its shape is not the same as any of the matrices we used. The shape of a dot product is actually derived from the shapes of the matrices used. So recall matrix $A$ with a shape of $(a,b)$ and matrix $B$ with a shape of $(b,c)$, $A \\cdot B$ should have a shape $(a,c)$."
      ]
    },
    {
      "cell_type": "code",
      "metadata": {
        "colab": {
          "base_uri": "https://localhost:8080/"
        },
        "id": "kNWJ7Z6siLFG",
        "outputId": "71a029f4-5e35-4048-9374-bb5068ec9fe4"
      },
      "source": [
        "A @ B.T"
      ],
      "execution_count": 151,
      "outputs": [
        {
          "output_type": "execute_result",
          "data": {
            "text/plain": [
              "array([[  6,  18, -10],\n",
              "       [  3,   9,  -1],\n",
              "       [  1,   3,  -2]])"
            ]
          },
          "metadata": {},
          "execution_count": 151
        }
      ]
    },
    {
      "cell_type": "code",
      "metadata": {
        "colab": {
          "base_uri": "https://localhost:8080/"
        },
        "id": "sofxTjnTiMdZ",
        "outputId": "ec6a4682-f0f0-44ba-b0cb-cfa380c761f8"
      },
      "source": [
        "X = np.array([\n",
        "    [1,2,3,0]\n",
        "])\n",
        "Y = np.array([\n",
        "    [1,0,4,-1]\n",
        "])\n",
        "print(X.shape)\n",
        "print(Y.shape)"
      ],
      "execution_count": 152,
      "outputs": [
        {
          "output_type": "stream",
          "name": "stdout",
          "text": [
            "(1, 4)\n",
            "(1, 4)\n"
          ]
        }
      ]
    },
    {
      "cell_type": "code",
      "metadata": {
        "colab": {
          "base_uri": "https://localhost:8080/"
        },
        "id": "C7cYYQK-iOIJ",
        "outputId": "2e27e184-906c-4b7b-d96e-d377d101cc66"
      },
      "source": [
        "Y.T @ X"
      ],
      "execution_count": 153,
      "outputs": [
        {
          "output_type": "execute_result",
          "data": {
            "text/plain": [
              "array([[ 1,  2,  3,  0],\n",
              "       [ 0,  0,  0,  0],\n",
              "       [ 4,  8, 12,  0],\n",
              "       [-1, -2, -3,  0]])"
            ]
          },
          "metadata": {},
          "execution_count": 153
        }
      ]
    },
    {
      "cell_type": "code",
      "metadata": {
        "colab": {
          "base_uri": "https://localhost:8080/"
        },
        "id": "zf1McpIQiP4F",
        "outputId": "cafd504c-4985-4889-8813-a60cb2f190ec"
      },
      "source": [
        "X @ Y.T"
      ],
      "execution_count": 154,
      "outputs": [
        {
          "output_type": "execute_result",
          "data": {
            "text/plain": [
              "array([[13]])"
            ]
          },
          "metadata": {},
          "execution_count": 154
        }
      ]
    },
    {
      "cell_type": "markdown",
      "metadata": {
        "id": "MnvKQl3tiQ5V"
      },
      "source": [
        "And youcan see that when you try to multiply A and B, it returns `ValueError` pertaining to matrix shape mismatch."
      ]
    },
    {
      "cell_type": "markdown",
      "metadata": {
        "id": "uGVcFlwTiSCz"
      },
      "source": [
        "### Rule 2: Dot Product has special properties\n",
        "\n",
        "Dot products are prevalent in matrix algebra, this implies that it has several unique properties and it should be considered when formulation solutions:\n",
        " 1. $A \\cdot B \\neq B \\cdot A$\n",
        " 2. $A \\cdot (B \\cdot C) = (A \\cdot B) \\cdot C$\n",
        " 3. $A\\cdot(B+C) = A\\cdot B + A\\cdot C$\n",
        " 4. $(B+C)\\cdot A = B\\cdot A + C\\cdot A$\n",
        " 5. $A\\cdot I = A$\n",
        " 6. $A\\cdot \\emptyset = \\emptyset$ "
      ]
    },
    {
      "cell_type": "code",
      "metadata": {
        "id": "3_AFZXXXqP0I"
      },
      "source": [
        "A = np.array([\n",
        "    [4,3,1],\n",
        "    [5,3,5],\n",
        "    [5,0,4]\n",
        "])\n",
        "B = np.array([\n",
        "    [1,2,3],\n",
        "    [4,3,1],\n",
        "    [9,1,1]\n",
        "])\n",
        "C = np.array([\n",
        "    [2,3,6],\n",
        "    [5,7,8],\n",
        "    [1,2,1]\n",
        "])"
      ],
      "execution_count": 155,
      "outputs": []
    },
    {
      "cell_type": "code",
      "metadata": {
        "colab": {
          "base_uri": "https://localhost:8080/"
        },
        "id": "57ShAQENjE08",
        "outputId": "fb5e6587-47da-4727-9fa3-740eaf63947d"
      },
      "source": [
        "np.array_equal(A@B, B@A)"
      ],
      "execution_count": 156,
      "outputs": [
        {
          "output_type": "execute_result",
          "data": {
            "text/plain": [
              "False"
            ]
          },
          "metadata": {},
          "execution_count": 156
        }
      ]
    },
    {
      "cell_type": "code",
      "metadata": {
        "colab": {
          "base_uri": "https://localhost:8080/"
        },
        "id": "ps6Reum8jFWx",
        "outputId": "f36c81ec-1dc9-4305-bac1-d9469c9f4481"
      },
      "source": [
        "E = A @ (B @ C)\n",
        "E"
      ],
      "execution_count": 157,
      "outputs": [
        {
          "output_type": "execute_result",
          "data": {
            "text/plain": [
              "array([[156, 233, 310],\n",
              "       [267, 400, 587],\n",
              "       [171, 259, 377]])"
            ]
          },
          "metadata": {},
          "execution_count": 157
        }
      ]
    },
    {
      "cell_type": "code",
      "metadata": {
        "colab": {
          "base_uri": "https://localhost:8080/"
        },
        "id": "btSANF6CjGr2",
        "outputId": "49456670-4883-4a9b-a566-ac5e3e48e222"
      },
      "source": [
        "F = (A @ B) @ C\n",
        "F"
      ],
      "execution_count": 158,
      "outputs": [
        {
          "output_type": "execute_result",
          "data": {
            "text/plain": [
              "array([[156, 233, 310],\n",
              "       [267, 400, 587],\n",
              "       [171, 259, 377]])"
            ]
          },
          "metadata": {},
          "execution_count": 158
        }
      ]
    },
    {
      "cell_type": "code",
      "metadata": {
        "colab": {
          "base_uri": "https://localhost:8080/"
        },
        "id": "ApxY2MLIjIYK",
        "outputId": "8614f87d-948d-4cda-e631-3d6de7dc0462"
      },
      "source": [
        "np.array_equiv(E, F)"
      ],
      "execution_count": 159,
      "outputs": [
        {
          "output_type": "execute_result",
          "data": {
            "text/plain": [
              "True"
            ]
          },
          "metadata": {},
          "execution_count": 159
        }
      ]
    },
    {
      "cell_type": "code",
      "metadata": {
        "colab": {
          "base_uri": "https://localhost:8080/"
        },
        "id": "PjRo4OwvjIu2",
        "outputId": "211be064-b2e1-4ee0-8356-efc671d653d5"
      },
      "source": [
        "AB = np.dot(A,B)\n",
        "AB"
      ],
      "execution_count": 160,
      "outputs": [
        {
          "output_type": "execute_result",
          "data": {
            "text/plain": [
              "array([[25, 18, 16],\n",
              "       [62, 24, 23],\n",
              "       [41, 14, 19]])"
            ]
          },
          "metadata": {},
          "execution_count": 160
        }
      ]
    },
    {
      "cell_type": "code",
      "metadata": {
        "colab": {
          "base_uri": "https://localhost:8080/"
        },
        "id": "7Dh0XRwzjJlW",
        "outputId": "cdd8798a-b772-456d-d7e0-fbf7e68e6be6"
      },
      "source": [
        "BA = np.dot(B,A)\n",
        "BA"
      ],
      "execution_count": 161,
      "outputs": [
        {
          "output_type": "execute_result",
          "data": {
            "text/plain": [
              "array([[29,  9, 23],\n",
              "       [36, 21, 23],\n",
              "       [46, 30, 18]])"
            ]
          },
          "metadata": {},
          "execution_count": 161
        }
      ]
    },
    {
      "cell_type": "code",
      "metadata": {
        "colab": {
          "base_uri": "https://localhost:8080/"
        },
        "id": "QuKvBWy8mdoD",
        "outputId": "3ef9f5e8-d6a0-4637-ae03-c34a73928d55"
      },
      "source": [
        "np.array_equiv(AB,BA)"
      ],
      "execution_count": 162,
      "outputs": [
        {
          "output_type": "execute_result",
          "data": {
            "text/plain": [
              "False"
            ]
          },
          "metadata": {},
          "execution_count": 162
        }
      ]
    },
    {
      "cell_type": "code",
      "metadata": {
        "colab": {
          "base_uri": "https://localhost:8080/"
        },
        "id": "XTsGkB4AmfBc",
        "outputId": "326aa211-0a18-4798-eb2d-381f389f2a96"
      },
      "source": [
        "BC= np.dot(B,C)\n",
        "BC"
      ],
      "execution_count": 163,
      "outputs": [
        {
          "output_type": "execute_result",
          "data": {
            "text/plain": [
              "array([[15, 23, 25],\n",
              "       [24, 35, 49],\n",
              "       [24, 36, 63]])"
            ]
          },
          "metadata": {},
          "execution_count": 163
        }
      ]
    },
    {
      "cell_type": "code",
      "metadata": {
        "colab": {
          "base_uri": "https://localhost:8080/"
        },
        "id": "fi4t4Lc2mgMp",
        "outputId": "f8f71651-3717-44b6-d571-72152d32cc99"
      },
      "source": [
        "ABC= np.dot(A,BC)\n",
        "ABC"
      ],
      "execution_count": 164,
      "outputs": [
        {
          "output_type": "execute_result",
          "data": {
            "text/plain": [
              "array([[156, 233, 310],\n",
              "       [267, 400, 587],\n",
              "       [171, 259, 377]])"
            ]
          },
          "metadata": {},
          "execution_count": 164
        }
      ]
    },
    {
      "cell_type": "code",
      "metadata": {
        "colab": {
          "base_uri": "https://localhost:8080/"
        },
        "id": "7Hdx_F2ZmhaX",
        "outputId": "9124684c-0c04-40b2-953f-7cbca29963bd"
      },
      "source": [
        "ABC1 = np.dot(AB,C)\n",
        "ABC1"
      ],
      "execution_count": 165,
      "outputs": [
        {
          "output_type": "execute_result",
          "data": {
            "text/plain": [
              "array([[156, 233, 310],\n",
              "       [267, 400, 587],\n",
              "       [171, 259, 377]])"
            ]
          },
          "metadata": {},
          "execution_count": 165
        }
      ]
    },
    {
      "cell_type": "code",
      "metadata": {
        "colab": {
          "base_uri": "https://localhost:8080/"
        },
        "id": "a_IxzgAemid7",
        "outputId": "648ee748-1a88-45b0-cd45-aa4793fd23d8"
      },
      "source": [
        "np.identity(3)"
      ],
      "execution_count": 166,
      "outputs": [
        {
          "output_type": "execute_result",
          "data": {
            "text/plain": [
              "array([[1., 0., 0.],\n",
              "       [0., 1., 0.],\n",
              "       [0., 0., 1.]])"
            ]
          },
          "metadata": {},
          "execution_count": 166
        }
      ]
    },
    {
      "cell_type": "code",
      "metadata": {
        "colab": {
          "base_uri": "https://localhost:8080/"
        },
        "id": "NeM-3WZOmj74",
        "outputId": "e1685168-7e79-4f9a-eb32-fc3f75d5bca8"
      },
      "source": [
        "A.dot(np.eye(3))"
      ],
      "execution_count": 167,
      "outputs": [
        {
          "output_type": "execute_result",
          "data": {
            "text/plain": [
              "array([[4., 3., 1.],\n",
              "       [5., 3., 5.],\n",
              "       [5., 0., 4.]])"
            ]
          },
          "metadata": {},
          "execution_count": 167
        }
      ]
    },
    {
      "cell_type": "markdown",
      "metadata": {
        "id": "gBeRwqIBmqDh"
      },
      "source": [
        "## Determinant"
      ]
    },
    {
      "cell_type": "markdown",
      "metadata": {
        "id": "_HBF92IYmrwg"
      },
      "source": [
        "A determinant is a scalar value derived from a square matrix. The determinant is a fundamental and important value used in matrix algebra. Although it will not be evident in this laboratory on how it can be used practically, but it will be reatly used in future lessons.\n",
        "\n",
        "The determinant of some matrix $A$ is denoted as $det(A)$ or $|A|$. So let's say $A$ is represented as:\n",
        "$$A = \\begin{bmatrix}a_{(0,0)}&a_{(0,1)}\\\\a_{(1,0)}&a_{(1,1)}\\end{bmatrix}$$\n",
        "We can compute for the determinant as:\n",
        "$$|A| = a_{(0,0)}*a_{(1,1)} - a_{(1,0)}*a_{(0,1)}$$\n",
        "So if we have $A$ as:\n",
        "$$A = \\begin{bmatrix}1&4\\\\0&3\\end{bmatrix}, |A| = 3$$\n",
        "\n",
        "But you might wonder how about square matrices beyond the shape $(2,2)$? We can approach this problem by using several methods such as co-factor expansion and the minors method. This can be taught in the lecture of the laboratory but we can achieve the strenuous computation of high-dimensional matrices programmatically using Python. We can achieve this by using `np.linalg.det()`."
      ]
    },
    {
      "cell_type": "code",
      "metadata": {
        "colab": {
          "base_uri": "https://localhost:8080/"
        },
        "id": "1nwL7Xp1mtry",
        "outputId": "9d871ffa-148c-4e46-c184-90f47cb6ac8f"
      },
      "source": [
        "A = np.array([\n",
        "    [1,4],\n",
        "    [0,3]\n",
        "])\n",
        "np.linalg.det(A)"
      ],
      "execution_count": 168,
      "outputs": [
        {
          "output_type": "execute_result",
          "data": {
            "text/plain": [
              "3.0000000000000004"
            ]
          },
          "metadata": {},
          "execution_count": 168
        }
      ]
    },
    {
      "cell_type": "code",
      "metadata": {
        "colab": {
          "base_uri": "https://localhost:8080/"
        },
        "id": "wKfI_8jamvaA",
        "outputId": "dd859e0e-3207-4bc2-bf2b-14371b73b817"
      },
      "source": [
        "B = np.array([\n",
        "              [1, 5, 2],\n",
        "              [3, -1 ,-1],\n",
        "              [0, -2, 1]\n",
        "])\n",
        "np.linalg.det(B)"
      ],
      "execution_count": 169,
      "outputs": [
        {
          "output_type": "execute_result",
          "data": {
            "text/plain": [
              "-30.000000000000014"
            ]
          },
          "metadata": {},
          "execution_count": 169
        }
      ]
    },
    {
      "cell_type": "code",
      "metadata": {
        "colab": {
          "base_uri": "https://localhost:8080/"
        },
        "id": "_tvF5mfcmwiT",
        "outputId": "bd80c6d2-9ad1-4636-d1cd-40bd4fed67b9"
      },
      "source": [
        "## Now other mathematics classes would require you to solve this by hand, \n",
        "## and that is great for practicing your memorization and coordination skills \n",
        "## but in this class we aim for simplicity and speed so we'll use programming\n",
        "## but it's completely fine if you want to try to solve this one by hand.\n",
        "B = np.array([\n",
        "    [1,3,5,6],\n",
        "    [0,3,1,3],\n",
        "    [3,1,8,2],\n",
        "    [5,2,6,8]\n",
        "])\n",
        "np.linalg.det(B)"
      ],
      "execution_count": 170,
      "outputs": [
        {
          "output_type": "execute_result",
          "data": {
            "text/plain": [
              "-235.0000000000002"
            ]
          },
          "metadata": {},
          "execution_count": 170
        }
      ]
    },
    {
      "cell_type": "markdown",
      "metadata": {
        "id": "2A3lr_Jjm1XN"
      },
      "source": [
        "## ***Inverse***\n",
        "The inverse of a matrix is another fundamental operation in matrix algebra. Determining the inverse of a matrix let us determine if its solvability and its characteristic as a system of linear equation — we'll expand on this in the nect module. Another use of the inverse matrix is solving the problem of divisibility between matrices. Although element-wise division exists but dividing the entire concept of matrices does not exists. Inverse matrices provides a related operation that could have the same concept of \"dividing\" matrices.\n",
        "\n",
        "Now to determine the inverse of a matrix we need to perform several steps. So let's say we have a matrix $M$:\n",
        "$$M = \\begin{bmatrix}1&7\\\\-3&5\\end{bmatrix}$$\n",
        "First, we need to get the determinant of $M$.\n",
        "$$|M| = (1)(5)-(-3)(7) = 26$$\n",
        "Next, we need to reform the matrix into the inverse form:\n",
        "$$M^{-1} = \\frac{1}{|M|} \\begin{bmatrix} m_{(1,1)} & -m_{(0,1)} \\\\ -m_{(1,0)} & m_{(0,0)}\\end{bmatrix}$$\n",
        "So that will be:\n",
        "$$M^{-1} = \\frac{1}{26} \\begin{bmatrix} 5 & -7 \\\\ 3 & 1\\end{bmatrix} = \\begin{bmatrix} \\frac{5}{26} & \\frac{-7}{26} \\\\ \\frac{3}{26} & \\frac{1}{26}\\end{bmatrix}$$\n",
        "For higher-dimension matrices you might need to use co-factors, minors, adjugates, and other reduction techinques. To solve this programmatially we can use `np.linalg.inv()`."
      ]
    },
    {
      "cell_type": "code",
      "metadata": {
        "colab": {
          "base_uri": "https://localhost:8080/"
        },
        "id": "dtGIpc5foVel",
        "outputId": "f5dba16f-4e0f-4c4a-f7ef-a26c298b8fd6"
      },
      "source": [
        "M = np.array([\n",
        "    [1,7],\n",
        "    [-3, 5]\n",
        "])\n",
        "\n",
        "np.array(M @ np.linalg.inv(M), dtype=int)"
      ],
      "execution_count": 171,
      "outputs": [
        {
          "output_type": "execute_result",
          "data": {
            "text/plain": [
              "array([[1, 0],\n",
              "       [0, 1]])"
            ]
          },
          "metadata": {},
          "execution_count": 171
        }
      ]
    },
    {
      "cell_type": "code",
      "metadata": {
        "colab": {
          "base_uri": "https://localhost:8080/"
        },
        "id": "ZBTCiDCCoYYm",
        "outputId": "938664ea-cf07-4264-c595-ef7eb7c0a26b"
      },
      "source": [
        "P = np.array([\n",
        "              [6, 9, 0],\n",
        "              [4, 2, -1],\n",
        "              [3, 6, 7]\n",
        "])\n",
        "Q = np.linalg.inv(P)\n",
        "Q"
      ],
      "execution_count": 172,
      "outputs": [
        {
          "output_type": "execute_result",
          "data": {
            "text/plain": [
              "array([[-0.12578616,  0.39622642,  0.05660377],\n",
              "       [ 0.19496855, -0.26415094, -0.03773585],\n",
              "       [-0.11320755,  0.05660377,  0.1509434 ]])"
            ]
          },
          "metadata": {},
          "execution_count": 172
        }
      ]
    },
    {
      "cell_type": "code",
      "metadata": {
        "colab": {
          "base_uri": "https://localhost:8080/"
        },
        "id": "WgMuNd6VoZme",
        "outputId": "fd23bea9-12df-4096-829b-9c69008b8fec"
      },
      "source": [
        "P @ Q"
      ],
      "execution_count": 173,
      "outputs": [
        {
          "output_type": "execute_result",
          "data": {
            "text/plain": [
              "array([[ 1.00000000e+00, -5.55111512e-17, -6.93889390e-18],\n",
              "       [ 8.32667268e-17,  1.00000000e+00, -2.77555756e-17],\n",
              "       [ 2.77555756e-17, -1.38777878e-17,  1.00000000e+00]])"
            ]
          },
          "metadata": {},
          "execution_count": 173
        }
      ]
    },
    {
      "cell_type": "code",
      "metadata": {
        "colab": {
          "base_uri": "https://localhost:8080/"
        },
        "id": "bOAMCsNIobGr",
        "outputId": "33171da4-e059-4737-c2fb-b87faeab8448"
      },
      "source": [
        "## And now let's test your skills in solving a matrix with high dimensions:\n",
        "N = np.array([\n",
        "    [18,5,23,1,0,33,5],\n",
        "    [0,45,0,11,2,4,2],\n",
        "    [5,9,20,0,0,0,3],\n",
        "    [1,6,4,4,8,43,1],\n",
        "    [8,6,8,7,1,6,1],\n",
        "    [-5,15,2,0,0,6,-30],\n",
        "    [-2,-5,1,2,1,20,12],\n",
        "])\n",
        "N_inv = np.linalg.inv(N)\n",
        "np.array(N @ N_inv,dtype=int)"
      ],
      "execution_count": 174,
      "outputs": [
        {
          "output_type": "execute_result",
          "data": {
            "text/plain": [
              "array([[0, 0, 0, 0, 0, 0, 0],\n",
              "       [0, 0, 0, 0, 0, 0, 0],\n",
              "       [0, 0, 1, 0, 0, 0, 0],\n",
              "       [0, 0, 0, 1, 0, 0, 0],\n",
              "       [0, 0, 0, 0, 0, 0, 0],\n",
              "       [0, 0, 0, 0, 0, 0, 0],\n",
              "       [0, 0, 0, 0, 0, 0, 1]])"
            ]
          },
          "metadata": {},
          "execution_count": 174
        }
      ]
    },
    {
      "cell_type": "markdown",
      "metadata": {
        "id": "hZH3XgOZodjb"
      },
      "source": [
        "To validate the wether if the matric that you have solved is really the inverse, we follow this dot product property for a matrix $M$:\n",
        "$$M\\cdot M^{-1} = I$$"
      ]
    },
    {
      "cell_type": "code",
      "metadata": {
        "colab": {
          "base_uri": "https://localhost:8080/"
        },
        "id": "jW_VhldToem3",
        "outputId": "638e1b94-94e8-48e4-ff23-39091bded748"
      },
      "source": [
        "squad = np.array([\n",
        "    [1.0, 1.0, 0.5],\n",
        "    [0.7, 0.7, 0.9],\n",
        "    [0.3, 0.3, 1.0]\n",
        "])\n",
        "weights = np.array([\n",
        "    [0.2, 0.2, 0.6]\n",
        "])\n",
        "p_grade = squad @ weights.T\n",
        "p_grade\n"
      ],
      "execution_count": 175,
      "outputs": [
        {
          "output_type": "execute_result",
          "data": {
            "text/plain": [
              "array([[0.7 ],\n",
              "       [0.82],\n",
              "       [0.72]])"
            ]
          },
          "metadata": {},
          "execution_count": 175
        }
      ]
    },
    {
      "cell_type": "markdown",
      "metadata": {
        "id": "7pkMaxw6oh_S"
      },
      "source": [
        "# ***ACTIVITY***"
      ]
    },
    {
      "cell_type": "markdown",
      "metadata": {
        "id": "1XNf2rB3okqR"
      },
      "source": [
        "## **Task 1**\n",
        "Prove and implement the remaining 6 matrix multiplication properties. You may create your own matrices in which their shapes should not be lower than  (3,3) . In your methodology, create individual flowcharts for each property and discuss the property you would then present your proofs or validity of your implementation in the results section by comparing your result to present functions from NumPy."
      ]
    },
    {
      "cell_type": "code",
      "metadata": {
        "id": "nXnOWy-PSsLL"
      },
      "source": [
        "A = np.array([\n",
        "    [6,9,6],\n",
        "    [0,4,2],\n",
        "    [8,1,1]     \n",
        "])\n",
        "\n",
        "B = np.array([\n",
        "    [5,2,4],\n",
        "    [7,1,3],\n",
        "    [5,4,4]          \n",
        "])\n",
        "\n",
        "C = np.array([\n",
        "    [7,6,8],\n",
        "    [1,3,4],\n",
        "    [5,5,3]          \n",
        "\n",
        "])"
      ],
      "execution_count": 176,
      "outputs": []
    },
    {
      "cell_type": "code",
      "metadata": {
        "colab": {
          "base_uri": "https://localhost:8080/"
        },
        "id": "87jFhM49Tl2B",
        "outputId": "66c808c3-3fd3-442f-fda8-ff54449f64b1"
      },
      "source": [
        "#1 \n",
        "A1 = A@B\n",
        "A1"
      ],
      "execution_count": 177,
      "outputs": [
        {
          "output_type": "execute_result",
          "data": {
            "text/plain": [
              "array([[123,  45,  75],\n",
              "       [ 38,  12,  20],\n",
              "       [ 52,  21,  39]])"
            ]
          },
          "metadata": {},
          "execution_count": 177
        }
      ]
    },
    {
      "cell_type": "code",
      "metadata": {
        "colab": {
          "base_uri": "https://localhost:8080/"
        },
        "id": "2NJc3frTTuLM",
        "outputId": "2bd206cd-e514-4848-d3c3-b07760d40b3d"
      },
      "source": [
        "B1 = B@A\n",
        "B1"
      ],
      "execution_count": 178,
      "outputs": [
        {
          "output_type": "execute_result",
          "data": {
            "text/plain": [
              "array([[62, 57, 38],\n",
              "       [66, 70, 47],\n",
              "       [62, 65, 42]])"
            ]
          },
          "metadata": {},
          "execution_count": 178
        }
      ]
    },
    {
      "cell_type": "code",
      "metadata": {
        "colab": {
          "base_uri": "https://localhost:8080/"
        },
        "id": "ToIffi7MT0_p",
        "outputId": "629e8e80-34c5-4f39-ef96-f98a0583d62e"
      },
      "source": [
        "np.array_equal(A1,B1)"
      ],
      "execution_count": 179,
      "outputs": [
        {
          "output_type": "execute_result",
          "data": {
            "text/plain": [
              "False"
            ]
          },
          "metadata": {},
          "execution_count": 179
        }
      ]
    },
    {
      "cell_type": "markdown",
      "metadata": {
        "id": "p4XHgVUCaDZ7"
      },
      "source": [
        "![F1.png](data:image/png;base64,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)"
      ]
    },
    {
      "cell_type": "code",
      "metadata": {
        "colab": {
          "base_uri": "https://localhost:8080/"
        },
        "id": "0XSw2RKyaI44",
        "outputId": "31afaac5-1f04-40f9-c918-6e6e68a306ac"
      },
      "source": [
        "#2\n",
        "A2 = A @ (B @ C)\n",
        "A2"
      ],
      "execution_count": 180,
      "outputs": [
        {
          "output_type": "execute_result",
          "data": {
            "text/plain": [
              "array([[1281, 1248, 1389],\n",
              "       [ 378,  364,  412],\n",
              "       [ 580,  570,  617]])"
            ]
          },
          "metadata": {},
          "execution_count": 180
        }
      ]
    },
    {
      "cell_type": "code",
      "metadata": {
        "colab": {
          "base_uri": "https://localhost:8080/"
        },
        "id": "tvYCs6-LaKWv",
        "outputId": "0f51cc9b-4e3a-4819-cce0-3862d25d846f"
      },
      "source": [
        "B2 = (A @ B) @ C\n",
        "B2"
      ],
      "execution_count": 181,
      "outputs": [
        {
          "output_type": "execute_result",
          "data": {
            "text/plain": [
              "array([[1281, 1248, 1389],\n",
              "       [ 378,  364,  412],\n",
              "       [ 580,  570,  617]])"
            ]
          },
          "metadata": {},
          "execution_count": 181
        }
      ]
    },
    {
      "cell_type": "code",
      "metadata": {
        "colab": {
          "base_uri": "https://localhost:8080/"
        },
        "id": "_J0utTalaOVz",
        "outputId": "4ba7707e-7163-4a84-deae-c6abecd23610"
      },
      "source": [
        "np.array_equal(A2,B2)"
      ],
      "execution_count": 182,
      "outputs": [
        {
          "output_type": "execute_result",
          "data": {
            "text/plain": [
              "True"
            ]
          },
          "metadata": {},
          "execution_count": 182
        }
      ]
    },
    {
      "cell_type": "markdown",
      "metadata": {
        "id": "LWgKcpqXaRCI"
      },
      "source": [
        "![f2.png](data:image/png;base64,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)"
      ]
    },
    {
      "cell_type": "code",
      "metadata": {
        "colab": {
          "base_uri": "https://localhost:8080/"
        },
        "id": "mgrM1nEyaTmu",
        "outputId": "f97c7fbc-88db-480d-b6f1-36222de3b741"
      },
      "source": [
        "#3\n",
        "A3 = A @ (B + C)\n",
        "A3"
      ],
      "execution_count": 183,
      "outputs": [
        {
          "output_type": "execute_result",
          "data": {
            "text/plain": [
              "array([[204, 138, 177],\n",
              "       [ 52,  34,  42],\n",
              "       [114,  77, 110]])"
            ]
          },
          "metadata": {},
          "execution_count": 183
        }
      ]
    },
    {
      "cell_type": "code",
      "metadata": {
        "colab": {
          "base_uri": "https://localhost:8080/"
        },
        "id": "tBJuF2_VaUe7",
        "outputId": "eaec51e5-9a17-47e5-b25f-277402bca797"
      },
      "source": [
        "B3 = A @ B + A @ C\n",
        "B3"
      ],
      "execution_count": 184,
      "outputs": [
        {
          "output_type": "execute_result",
          "data": {
            "text/plain": [
              "array([[204, 138, 177],\n",
              "       [ 52,  34,  42],\n",
              "       [114,  77, 110]])"
            ]
          },
          "metadata": {},
          "execution_count": 184
        }
      ]
    },
    {
      "cell_type": "code",
      "metadata": {
        "colab": {
          "base_uri": "https://localhost:8080/"
        },
        "id": "nHvdxOgRaWZl",
        "outputId": "c706b24b-f7d8-4f8d-baed-6efddf401c2a"
      },
      "source": [
        "np.array_equal(A3,B3)"
      ],
      "execution_count": 185,
      "outputs": [
        {
          "output_type": "execute_result",
          "data": {
            "text/plain": [
              "True"
            ]
          },
          "metadata": {},
          "execution_count": 185
        }
      ]
    },
    {
      "cell_type": "markdown",
      "metadata": {
        "id": "kz0dtc-5aXGZ"
      },
      "source": [
        "![f3.png](data:image/png;base64,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)"
      ]
    },
    {
      "cell_type": "code",
      "metadata": {
        "colab": {
          "base_uri": "https://localhost:8080/"
        },
        "id": "Q3K4E2SFaZRJ",
        "outputId": "01ed524e-ba28-4361-97a3-456326c8885c"
      },
      "source": [
        "#4\n",
        "A4 = (B + C) @ A\n",
        "A4"
      ],
      "execution_count": 186,
      "outputs": [
        {
          "output_type": "execute_result",
          "data": {
            "text/plain": [
              "array([[168, 152, 100],\n",
              "       [104,  95,  63],\n",
              "       [116, 133,  85]])"
            ]
          },
          "metadata": {},
          "execution_count": 186
        }
      ]
    },
    {
      "cell_type": "code",
      "metadata": {
        "colab": {
          "base_uri": "https://localhost:8080/"
        },
        "id": "DPoVn-WmaaQD",
        "outputId": "a6011f29-3615-4bc0-83f3-d8f1a7cfbd86"
      },
      "source": [
        "B4 = B @ A + C @ A\n",
        "B4"
      ],
      "execution_count": 187,
      "outputs": [
        {
          "output_type": "execute_result",
          "data": {
            "text/plain": [
              "array([[168, 152, 100],\n",
              "       [104,  95,  63],\n",
              "       [116, 133,  85]])"
            ]
          },
          "metadata": {},
          "execution_count": 187
        }
      ]
    },
    {
      "cell_type": "code",
      "metadata": {
        "colab": {
          "base_uri": "https://localhost:8080/"
        },
        "id": "CD-3wlGbakso",
        "outputId": "7de8f19a-33b2-442c-ecba-6c4a497aa811"
      },
      "source": [
        "np.array_equal(A4,B4)"
      ],
      "execution_count": 188,
      "outputs": [
        {
          "output_type": "execute_result",
          "data": {
            "text/plain": [
              "True"
            ]
          },
          "metadata": {},
          "execution_count": 188
        }
      ]
    },
    {
      "cell_type": "markdown",
      "metadata": {
        "id": "czjKLgXOanwf"
      },
      "source": [
        "![f4.png](data:image/png;base64,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)"
      ]
    },
    {
      "cell_type": "code",
      "metadata": {
        "colab": {
          "base_uri": "https://localhost:8080/"
        },
        "id": "9tAh1Bvhap2P",
        "outputId": "28158f52-f576-434b-ee9c-73d233c5ba54"
      },
      "source": [
        "#5\n",
        "A5 = A@B5\n",
        "A5"
      ],
      "execution_count": 195,
      "outputs": [
        {
          "output_type": "execute_result",
          "data": {
            "text/plain": [
              "array([[6., 9., 6.],\n",
              "       [0., 4., 2.],\n",
              "       [8., 1., 1.]])"
            ]
          },
          "metadata": {},
          "execution_count": 195
        }
      ]
    },
    {
      "cell_type": "code",
      "metadata": {
        "colab": {
          "base_uri": "https://localhost:8080/"
        },
        "id": "mLH0cl3Maq40",
        "outputId": "faa9c4bd-54c2-45c5-f13d-9aef96d4dbc9"
      },
      "source": [
        "B5 = np.eye(3)\n",
        "B5"
      ],
      "execution_count": 193,
      "outputs": [
        {
          "output_type": "execute_result",
          "data": {
            "text/plain": [
              "array([[1., 0., 0.],\n",
              "       [0., 1., 0.],\n",
              "       [0., 0., 1.]])"
            ]
          },
          "metadata": {},
          "execution_count": 193
        }
      ]
    },
    {
      "cell_type": "code",
      "metadata": {
        "colab": {
          "base_uri": "https://localhost:8080/"
        },
        "id": "vkhHNIHmatiV",
        "outputId": "95a716df-b485-4376-9cbe-c91943007291"
      },
      "source": [
        "np.array_equal(A5,B5)"
      ],
      "execution_count": 196,
      "outputs": [
        {
          "output_type": "execute_result",
          "data": {
            "text/plain": [
              "False"
            ]
          },
          "metadata": {},
          "execution_count": 196
        }
      ]
    },
    {
      "cell_type": "markdown",
      "metadata": {
        "id": "dXdoMDdJawal"
      },
      "source": [
        "![f5.png](data:image/png;base64,iVBORw0KGgoAAAANSUhEUgAAAYkAAAJ9CAIAAABPVBl4AAAAAXNSR0IArs4c6QAAAARnQU1BAACxjwv8YQUAAAAJcEhZcwAADsMAAA7DAcdvqGQAAGB4SURBVHhe7Z15eFRFuv/zz9z5zbjN6L0zzowLyhaQfYsiIqACCgaICbsskoDsEJaAICgEWYwiKIqoqKOgIoKKKKAiyhgU1wGUEXJRDK2IAzMmOKjX5Vd96u2TU0tCp8+Ss3w/Tz08bx3S+VBVfb6p0905pP2i4z//+Q9VCl9++SVVIpU95P8MqCMCC1UisMBCHZGoWZBNGmChSgEW6ojAQpWITQuySQMsVCnAQh0RWKgSsWlBNmmAhSoFWKgjAgtVIjYtyCYNsFClAAt1RGChSsSmBdmkARaqFGChjggsVInYtKSxL1I5duwYVQqlpaVUiVT2kDID6ojAQpUILLBQRyRqFuybNMBClQIs1BGBhSoRmxZkkwZYqFKAhToisFAlYtOCbNIAC1UKsFBHBBaqRGxakE0aYKFKARbqiMBClYhNC7JJAyxUKcBCHRFYqBKxaUE2aYCFKgVYqCMCC1UiNi3IJg2wUKUAC3VEYKFKxKYF2aQBFqoUYKGOCCxUidi0pB3WUVpaSpVCSUkJVSKVPSRmQB0RWKgSgQUW6ohEzYJ9kwZYqFKAhToisFAlYtOCbNIAC1UKsFBHBBaqRGxakE0aYKFKARbqiMBClYhNC7JJAyxUKcBCHRFYqBKxaUE2aYCFKgVYqCMCC1UiNi3IJg2wUKUAC3VEYKFKxKYF2aQBFqoUYKGOCCxUidi0uH5vuXID6ojAQpUILLBQRyRqFuybNMBClQIs1BGBhSoRmxZkkwZYqFKAhToisFAlYtOCbNIAC1UKsFBHBBaqRGxakE0aYKFKARbqiMBClYhNC7JJAyxUKcBCHRFYqBKxaUE2aYCFKgVYqCMCC1UiNi3IJg2wUKUAC3VEYKFKxKYljT9eoqysjCqFWCxGlUh5eTlVIicMqCMCC1UisMBCHZGoWZBNGmChSgEW6ojAQpWITQuu6TTAQpUCLNQRgYUqEZsWZJMGWKhSgIU6IrBQJWLTgmzSAAtVCrBQRwQWqkRsWpBNGmChSgEW6ojAQpWITQuySQMsVCnAQh0RWKgSsWlBNmmAhSoFWKgjAgtVIjYtyCYNsFClAAt1RGChSsSmxfV7y5UZUEcEFqpEYIGFOiJRs2DfpCEKluPHj+/Zs2fLli2PPPLIwsL5U8bn510/tG/P7B6dr+nS/orOl3Xs3L7TNR079+p67cDr+o66YfiMKdMWF9153333vfHGG5999hl9lwRRmDFYPLYgmzSE0vLRRx899uhfJ4+Z0PXyK+udX/uiC+p1z+g4qmu/edljHrz+5vUji7ZNWvHejMf33rr2f+c999ltGz69bcP+wmf3zF7z9vRHX55w75rhC5YNmDazR94NV2Rd0bxtvfMubFQnPadbzzkzZj333HMlJSXcIuHSWCRgCaUF2aQhNJadO3fOm3Vr905dWJR0z+g0O3vkupG375+7/pf737XfvltW/P6Mxx8ZeuuE7oMubdSqfq06g7L7Pbh8xYEDB0iPdYHFhgXZpCHQlp9//nn9M+tu6Ht9/fNrZ7frumzQdLb3kWLFjfbz8nden/zAnJwxHZpmNK1/0fQJU4qLi22ORSLQ6yIBC1UKpgXZpCGgli2bt9zQJx5JY7oN2DJ+mZQdXrZji197LK+QJWP6BXVnTJzKLifpX2khOutClQgsVCmYFmSThmBZjh07tmjObeyS6vpOPV4ct1SKiZpt5Uu3P3jD7I7NL+ncruOTj6+mf7FB6NeFAwt1RJKxIJs0BMXyv//7vxPyRqWfX2fRgPyjd74q5YKv2gczV4/uNqDBhfXuWlDErjrZPz7E62IFFuqIJGNBNmnwv+XgwYOjhwxvUa/Ro3lzpRTwczt659Zbckan16qz+LZFoVwXFVioI5KMJe2wjtLSUqoUSkpKqBKp7CExA+qIwEKVSNUWtnJTRk9IP7/2I3lzpDM/KO340u0zsoazi9D77rqHBiaC1aeOSNQs2Ddp8K1l1cN/bXhhvYX986WzPYjt8wUbb7gqu3vHzrt376bhJcDqU0ckahZkkwYfWv71r38Nzu7fp/01n83fIJ3kgW4vTbynSe0Gi26ZR+M0wOpTRyRqFmSTBr9ZNj63ocEFdVcG9iLupC2/x1C2gWL7fD5erD51RKJmQTZp8JVl/sxbOza/ZJ9DH+b2bVs7pojl74vPvcCGjNWnjkjULMgmDf6x5PYdNOqaAdJpHNa2f+76to1a3lu0BKtPHZGoWZBNGvxg+eGHH67t1HXBgInSCRzu9tPyd3LaX10wJp/mQiQ6q08dkahZkE0aatxSXl5+xSXtl99ws3TqRqQNvTLrpnGTaTosRGT1YeGF6/eWY6cZgzoisFAlwhRXXdphRe5s6YyNVBvWOWfmxAKakQQRWX1YeIF9k4aatfS99rrFgwqkczWCrc/l3e5ZtJgmxSAKqw+LaUE2aahBy4zxU6b0GiadpZFtlzZqyd+544R+9RmwmBZkk4aasqx5/InuF3eSzs8ot31z16XXqnP48GE+P+FefQ4spgXZpKFGLEeOHGHn4aGFL0rnZ8TbqpG39e7Wi09RiFffBBbTgmzSUCOWITkDHhkepJsKeNaGXJn16IqVbIpCvPomsJgWZJMG7y1bXtx0La7mKmlfLNrEdpQ//vhjWFffCiymBdmkwXtLx4x2b09/VDon0cx2W9/x82beEtbVtwKLaUnjj5coKyujSiEWi1ElUl5eTpXICQPqiMDCiw3PPtevw7XS2Yhmbf9371v1zr/wX//6F58xCZfWRQIWjy3IJg0eWzKvvHr7lAelsxFNajOvu/GuhXfwGZNwaV0kYPHYgms6DV5aPvvss4wGzaTzEE1t/zvvuYubtuRTJ+HGuqjA4rEF2aTBS8viBbff3m+SdB6iaVunZpf84x//4LNnxY11UYHFYwuySYOXls7tOu69da10EqJpW1H/Seyyjs+eFTfWRQUWjy3IJg1eWuqdd6F0Bjrc3v3il29/8Kg987Fsd7S9P+PxrK7X8tmz4sa6qMDisQXZpMEzy3vvvZfdrqt0BjrcWDZ5hsvZxFq98y8klwXH14UqEVg8tiCbNHhmWbVq1aysG6XTz+H2boy5vlydlcaZU8x6q3KoR+Ssiv8TdxQanaxVdNtu84hJYfzB5rciLF/vfja1qNfo3//+N+kSOL4uVInA4rEF2aTBM8v8ufMeGjxLOv0cbvF9UzHLmMIdv/xSuirLEiXFc3hUEfFuTmEhiy3zYDybzK+PJ1rW6sRY4n8VjyoB97OpV9ur1P8zyvF1oUoEFo8trt9brsyAOiKwTBw97tlRd0inn8MtkU3WGOKI2RT/GhY9xrYoETpCNtEX8E5NZdOwK67bsmULzWACx9eFKhFYPLZg36TBM8vY4SM3j79HOv0cbvz1pviOiVMRKEI2mTFkfGV8k0UHLVjTrYayaUyX/ps3byZdAsfXhSoRWDy2IJs0eGaZMHLsxrFLpNPP4WZ9LdzIHXPvY82meG2FHzcDywipik0To4ay6cbOfV599VXSJXB8XagSgcVjC7JJg2eW2TfNXJ07Tzr9HG4smypeZhKuyyzZpBznuWNmExtF/FrPvL6rsWzq3777O++8Q7oEjq8LVSKweGxBNmnwzLJ82X1FffOl08/hZuybKt5c42/JGVRkkyWD4hi7pPhlnXDceNHKfHgNZVOHphmHDh0iXQLH14UqEVg8tiCbNHhmeeWVV4Z37i2dfg436zWd27ifTXXPvYBcFhxfF6pEYPHYgmzS4JnlyJEjbdz+Rd8QZdOhhS+1a5lBLguOrwtVIrB4bEE2afDS0qhOetmSN6ST0MkWomx6Mu+2qWM1/+WvG+uiAovHFmSTBi8tE0eMWXPjQukkRNO2IVdkbdmyhc+eFTfWRQUWjy1ph3WUlpZSpVBSUkKVSGUPiRlQRwQW9ue6dev6XHaNdBKiaVudc2rxqZNwY11UYPHYgn2TBo8tDS6o+/Udr0jnIZrUHh8+b+ywG/mMSbi0LhKweGxBNmnw2FJUuGBe33HSqYgmtcubZqifbOK4tC4SsHhsQTZp8Nhy4sSJ+ufX/uHet6SzEc1sG8ct7dM9K5SrLwGLaUE2afDesvCWwtk5o6QTEs1s7Rq3fvfdd8O6+lZgMS3IJg01Yrmodn3cnFfb7r1h5tihI9gUhXj1TWAxLcgmDTVieX7ds93xX/sq7dPbNqTXqlNWVsamKMSrbwKLaUE2aagpy/hhoxYOcPnX64LWumV0XPfEGj4/4V59DiymxfV7y5UbUEcEFqostG3e+sXxS6XzM7JtetbwKaPG09REYPUZsJgW7Js01KBl//797BJmz+ynpLM0gm1F7uysLt1pXgxCv/oMWEwLsklDzVpe2bylQa26ny/YKJ2rkWprRt/etnmb7777jibFIAqrD4tpQTZpqHHLuqfWNqvbMLLx9PTo25s3aHz48GGakQQRWX1YeIFs0uAHy3Nr1ze8oO6e2Wuk8zb07dERhS0bNv3iC83tE6Kz+tQRiZoF2aTBJ5bXXn61wQV1N+cvk87eELcFAyZe3f6K/fv386mQiNTqq0TNgmzS4B/LJ598ktGk5ZLB06RzOHzt5/vfvaFz9o0Db2CjxupTRyRqFmSTBl9Zfv7559y+gwZd0cvdW9DVaCsuWNm83kVLF97Bh4zVp45I1Cxp/PESZWVlVCnEYjGqRMrLy6kSOWFAHRFYqBLRWlYsvbdBrTprRxdJZ3UI2pw+Y9s0bv7mm2/SULH6sBggmzT407J///5enbtd36nHwfkvSKd3QNuWictapzedObGARpgAq08dkahZcE2nwc+WJx59vOGF9W7tM+bH+96WTvUAtb23rh3QMbN7py7vv/8+jc0CVp86IlGzIJs0+N+ycHZheq06d1w/5afl70invc9bSeGzo67p3+qiZk/+dRUfiwpWnzoiUbMgmzQEwsI20nOm3cwS6pbeow/fvlmKAB+2t6c/OvTK61gqPb7yEfbvD+u6SMBCHZFkLMgmDQGy/PDDD0sX3tmoboMBHTJfmXivFAd+aOza85HcOR2bX9Ktw1XPPbOe/t1hXxcTWKgjkowF2aQhiJbVq1cP6NU7/fw6M7JGvDfjcSkgaqRtHLPkhiuvq1+rdsHY/D179tA/NEFE1gUW6ogkY0E2aQiupays7OH7H8y88ur082tPuHbwi2OXfL9shxQZrrbYwpcezZ0zoMO19c+vPXzg0BdeeMHnM6YCC1UKHluQTRpCYDl+/PgzT6+9cdCw+rXqXN40Y3rP3PUji0oXvChFiSNtz+ynHh56y4gufRpfWL9t8zY3T572xhtv8H+GI2MxCcG6mMBClYJpcf3ecuwnOYM6IrBQJeK45ZNPPvnrI4+OHz7qslaX1D33gk7NLhnVtd/i/lOeG3XnhzevPpL0f433f/e9Xbpg446Ch5/Mu21eztjBHXu2SW9a97wLu3fqctOkqc8///yRI0fImsDxsVAlAksoLdg3aQi35dNPP920adOSO++aOGpsTveebVu0qVerNsus+ufVblW/8WWNW1/euHWreo07t2jHUuzSRi2b1W1Y79wL6p53QcPa9dq3vuT6nH4zp05f+dDK7du3//Of/+TfM9wzxoHFYwuySUM0LT/99NM333xz+PDhd999t1mzZizC2E8wthVil4f0FZgxWHS4ZEE2aYi45YsvvsjIyKCOCGaMOiKwUCVi04Js0hBxC7KJKhFYPLYgmzRE3IJsokoEFo8tyCYNEbcgm6gSgcVjC7JJQ8QtyCaqRGDx2IJs0hBxC7KJKhFYPLakHdZRWlpKlUJJSQlVIpU9JGZAHRFYqBKpccuePXtatGhBHRHMGHVEYKFKxKYF+yYNEbdg30SVCCweW5BNGiJuQTZRJQKLxxZkk4aIW5BNVInA4rEF2aQh4hZkE1UisHhsQTZpiLgF2USVCCweW5BNGiJuQTZRJQKLxxZkk4aIW5BNVInA4rHF9XvLlRtQRwQWqkRq3HLgwIHWrVtTRwQzRh0RWKgSsWnBvklDxC3YN1ElAovHFmSThohbkE1UicDisQXZpCHiFmQTVSKweGxBNmmIuAXZRJUILB5bkE0aIm5BNlElAovHFmSThohbkE1UicDisQXZpCHiFmQTVSKweGxJ44+XKCsro0ohFotRJVJeXk6VyAkD6ojAQpVIjVs+//zzNm3aUEcEM0YdEVioErFpQTZpiLgF2USVCCweW3BNpyHiFlzTUSUCi8cWZJOGiFuQTVSJwOKxBdmkIeIWZBNVIrB4bEE2aYi4BdlElQgsHluQTRoibkE2USUCi8cWZJOGiFuQTVSJwOKxBdmkIeIWZBNVIrB4bHH93nJlBtQRgYUqkRq3OHhvuSosYZoxWKgSsWnBvklDxC3YN1ElAovHFmSThohbkE1UicDisQXZpCHiFmQTVSKweGxBNmmIuAXZRJUILB5bkE0aIm5BNlElAovHFmSThohbkE1UicDisQXZpCHiFmQTVSKweGxBNmmIuAXZRJUILB5b0g7rKC0tpUqhpKSEKpHKHhIzoI4ILFSJ1Lhlz549LVq0oI4IZow6IrBQJWLTgn2ThohbsG+iSgQWjy3IJg0RtyCbqBKBxWMLsklDxC3IJqpEYPHYgmzSEHELsokqEVg8tiCbNETcgmyiSgQWjy3IJg0RtyCbqBKBxWMLsklDxC3IJqpEYPHY4vq95coNqCMCC1UiNW5x8N5yVVjCNGOwUCVi04J9k4aIW7BvokoEFo8tyCYNkbXs3buX/WnNpuPHj/OCgxmjjggsVInYtCCbNETTUlZW1qBBg06dOm3YsIFl06ZNm9q2bXvllVfSXxtgxqgjAgtVIjYtyCYNkbXMmjXrlFNOOfvss0877bQ//OEPv//979etW0d/Z4AZo44ILFSJ2LQgmzRE1vLNN9+cd955aQnYvon+IgFmjDoisFAlYtOCbNIQZQvbOp1xxhksmNjuSdo0MTBj1BGBhSoRmxZkk4YoW9jW6ZxzztFumhiYMeqIwEKViE1LGn+8RFlZGVUKsViMKpHy8nKqRE4YUEcEFqpEatwybdq0M888c+3atdS3gBmjjggsVInYtCCbNPjZsn///pd1rFmzhiqRjRs3UiWyyYA6IuxbjR07ljoiDlpeeOEFqhSqttBcWKh6xqhSwHOMOiL+seCaToOfLT06X5PZuuOIzn2klndVjnQk0XorR3hjx6v4K+kItRq31Pnz+du2baPpSFD1jFGlgOcYdUT8Y0E2afCthW2aMho2/+X+d6PZShdszGjSgubCQhUzFqbVj5oF2aTBt5bly5fP7JknnbHRaSsHz5o5dTrNhYUqZixMqx81C7JJg28tfTKv2zZphXTGRqf1a99NvaBjVDFjYVr9qFmQTRr8aSktLW3TsJl0ukansQu6No2b01yIVDZjjNCsPiNqFmSTBn9aVq5cOaNHpC/opk2aQnMhUtmMMUKz+oyoWZBNGvxp6d8zJ8oXdP0v775lyxaaC5HKZowRmtVnRM3i+r3lygyoIwILVSJay/79+3FBF9nV50TNgn2TBh9a2AUd3qGL7OpzomZBNmnwoQUXdNu2bYvs6nOiZkE2afCbhe1y8ZFLNg/RXH2TqFmQTRr8ZsEFHf/IZTRX3yRqFmSTBr9ZcEHHP3IZzdU3iZoF2aTBVxZc0Jm/QxfB1bcSNQuySYOvLLigM3+HLoKrbyVqFmSTBl9ZcEFn/g5dBFffStQsaYd1sOsIqhRKSkqoEqnsITED6ojAQpWI1fL++++3Tm8qna7RaeyCrtVFzfhUMKK2+hJRs2DfpME/Fkcv6FYWtiz8khULCrPSOq1aQMe/zO2Ulbv5l/s3r2pp/OcqxKhi/pWZK83vQF9ZMIq+JEFhAX2B4026KUrUVl8iahZkkwb/WBy9oLNkU8tOWbwWssnII+tBbTZRV/h6l5r1go4RtdWXiJoF2aTBJxa273X0HTpLNmWuNIPGt9lkfYeOE6nVV4maBdmkwScWp9+hE7LJCJf4lZ0lm+gaLY7wlfQdPM4m6YKOEanVV4maBdmkwScWp9+hk7KJX9wVFuv2TdRqNJukCzpGpFZfJWoWZJMGP1icvqBjTckmI27YJqnSbGIPqXjVnH1BxSvobmeTekHHiM7qU0ckahZkkwY/WFz4yKUmm4yIqSKb3rW+K2fZNLHmbjapF3SM6Kw+dUSiZnH93nLlBtQRgYUqEW7Bf1uwZcsWmpEE0Vl96ohEzYJ9k4Yat3z66af4HTqaDgsRWX1YeIFs0lDjlgcffBC/Q0fTYSEiqw8LL5BNGmrc0rdHdpQv6Ppcdo30Dh0nIqsPCy+QTRpq1mJc0KXw3xbEX9WmzyUZrThT6MbfkqOXwI2vtBL/MukgvSXHHmX+Skr8GxKJV8Gl318xX2unflrCWI3Gf4eO5kIkCqsPi2lBNmmoWUv8gi6V/4eOhUunrIq3+VcWWn4xxfg0wKjCTOuHAOLJUunnlVjoGLFiZhMLpoovZn/Lv7PwHXiL/zNMC3tUdX/bjl3Q5Y8ZT3MhEoXVh8W0IJs01Kwl1Qu6eLisMj8eGU+NQvrQAHXjv6YrREk1sinx+QOpabIplTyytv6Xd1+3bh3NhUgUVh8W04Js0lCDltL4Ry5T+3/ojHBJfHapOL5FMgPF3MvIASRmE12HGdCXUTaJHxCvaOI1nfndKq7+qnlNx9+hw3OMOiJRs6Txx0uUlZVRpRCLxagSKS8vp0rkhAF1RGChygK7oEv1PxbnuRO/dov/GQ8Fy4ctKSriVGxqKtk3WTc+le2biguM0NHtm6yNPbzqL5Aau6C7aUoBnmPUEYmaBdmkoQYtNt6ho3CJJ0vmKGugCBdZLKfMlKn0mo7V9JpRpa838Y2VJpt4OCa6JwsvqfW7vPurr76K5xh1RKJmwTWdhpqyGBd0KX/kMhEuZnBQNolhYY2qSrOJb7XiXTObWGMPTJD4SvGajo5bt2nibqvqZn7kEs8x6ohEzYJs0lBTFvy3Bfwjl3iOUUckahZkk4aasuC/LeAfucRzjDoiUbMgmzTUiMXeBV3gm/V36PAco45I1CzIJg01YsEFnfk7dHiOUUckahZkk4YaseCCzvwdOjzHqCMSNQuySYP3FlzQWW+KgucYdUSiZnH93nJlBtQRgYWq//xn+fLlqX7kMgyNXdBNmzSF5gLPMVgMsG/S4L0FF3TWm6LgOUYdkahZkE0aPLawHxS4oONTwcFzjDoiUbMgmzR4bME7dNJdLvEco45I1CzIJg0eW3BBJ93lEs8x6ohEzYJs0uClBRd00gUdA88x6ohEzYJs0uClBRd06n9bgOcYdUSiZkE2afDSggs69b8twHOMOiJRsyCbNHhmwQWdekHHwHOMOiJRs6Qd1sHOGaoUSkpKqBKp7CExA+qIwDJr1qyBba/Zmr88mm1ql0H5Y8fTdFjAc4w6IlGzYN+kwTPLO2/uyOzabcTgYdY2fNANrEkHecsbOEQ6YrYhfQZKR3ir7CFVW4b2u35gTl/pOGvOWgb16a9e0DHwHKOOSNQsyCYNsJx33nl5eXnUt4AZo44ILFSJ2LQgmzRE3PLYY4/98Y9//N3vfnfo0CE6lAAzRh0RWKgSsWlBNmmIuOWiiy5KS0s788wz586dS4cSYMaoIwILVSI2LcgmDVG2rFmz5k9/+hP/jwjUrRNmjDoisFAlYtOCbNIQZUvjxo1ZKv36178+5ZRTzjjjDGnrhBmjjggsVInYtCCbNETWMnv27NNPP71p06bdunUbMGDAH//4x9/+9rdvvvkm/TVmDBYdLllcv7dcuQF1RGChSqQGLXv37i0sLGQPGTdu3Nq1a7/++usxY8bQ3xlgxqgjAgtVIjYt2DdpgCUnJ2fevHnUt4AZo44ILFSJ2LQgmzTA0rJly5tvvpn6FjBj1BGBhSoRmxZkkwZYkE0qsHhsQTZpgAXZpAKLxxZkkwZYkE0qsHhsQTZpgAXZpAKLxxZkkwZYkE0qsHhsSeOPlygrK6NKIRaLUSVSXl5OlcgJA+qIwEKViB8sLJtmzJhBfQuYMeqIwEKViE0LskkDLMgmFVg8tuCaTgMsuKZTgcVjC7JJAyzIJhVYPLYgmzTAgmxSgcVjC7JJAyzIJhVYPLYgmzTAgmxSgcVjC7JJAyzIJhVYPLYgmzTAgmxSgcVji+v3liszoI4ILFSJ+MHSvHnz6dOnU98CZow6IrBQJWLTgn2TBliwb1KBxWMLskkDLMgmFVg8tiCbNMCCbFKBxWMLskkDLMgmFVg8tiCbNMCCbFKBxWMLskkDLMgmFVg8tiCbNMCCbFKBxWMLskkDLMgmFVg8tqQd1lFaWkqVQklJCVUilT0kZkAdEVioEvGDpWnTpvn5+dS3gBmjjggsVInYtGDfpAEW7JtUYPHYgmzSEFnL0aNHJ02a9O233/JsOnjwYPfu3envDDBj1BGBhSoRmxZkk4bIWu65554zzjjj3HPP/ctf/pKRkfHf//3fp5566meffUZ/jRmDRYdLFmSThihb2rdvn5aW9qtf/Yr9ybjjjjvoLwwwY9QRgYUqEZsWZJOGKFs2bNjwhz/8gQcTK44dO0Z/YYAZo44ILFSJ2LQgmzRE3HLppZfybCoqKqJDCTBj1BGBhSoRmxZkk4aIW5555pnf/OY3Z5xxxtGjR+lQAswYdURgoUrEpsX1e8uVG1BHBBaqRPxgOe200zp37kx9C5gx6ojAQpWITQv2TRpgyc/PX716NfUtYMaoIwILVSI2LcgmDbCwbNqwYQP1LWDGqCMCC1UiNi3IJg2wIJtUYPHYgmzSAAuySQUWjy3IJg2wIJtUYPHYgmzSAAuySQUWjy3IJg2wIJtUYPHYksYfL1FWVkaVQiwWo0qkvLycKpETBtQRgYUqET9YJk6c+Oyzz1LfAmaMOiKwUCVi04Js0uCZ5UUdbMPCoI7I+vXrqVJYvXo1VSIsYqgSqdqSlZU1e/Zs6ltw1kKVwkktNIMJHF8XqkRg8diCazoNnllGDM0d0P5apXU3mnSQt8qOX9v/sm7SkUSr4ltV+ld9L72GNeW4wxblCLWqLc888wzNYALH14UqEVg8tiCbNHhmYdn0zI2Lfrn/XbQk24greyObVEJpQTZp8MyCbKpuQzZpCaUF2aTBMwuyqboN2aQllBZkkwbPLMim6jZkk5ZQWpBNGjyzIJuq25BNWkJpQTZp8MyCbKpuQzZpCaXF9XvLlRlQRwSW3EFDkU3VaiOuzHniiSdoBhM4vi5UicDisQX7Jg2eWbBvqm7DvklLKC3IJg2eWZBN1W3IJi2htCCbNHhmQTZVtyGbtITSgmzS4JkF2VTdhmzSEkoLskmDZxZkU3UbsklLKC3IJg2eWZBN1W3IJi2htCCbNHhmQTZVtyGbtITSgmzS4JkF2VTdhmzSEkpL2mEdpaWlVCmUlJRQJVLZQ2IG1BGBZXC/gcimarXhV2Q/9NBDNIMJHF8XqkRg8diCfZMGzyyO7ptWFqbFycrdXHGwYJRxjNFp1QLzK0/W6FHKQyq+W5zCAjr+ZW4nOsRpWfil/PXVsVfZsG/SEkoLskmDZxYnsykeBJ0KM1lMjCpOHCzOTEvLXFnxNcm1+KNajipsKTw2ftDynSkKjS8wssn8q/hxHlup2atuyCYtobQgmzR4ZnEwm4xAKfxyQWFWxY5m8yqWLxwxI4ygqcDcARktHi5s8yUkDgu++G4o8Q1bdsqKb4XYV8Y3RMJXVvwDKrXbacgmLaG0IJs0eGZxLpsoUCgRKAvMLUzFXubkzdh/xS/BLDHHsowV5j4oHkaJqGLH5Ws6O/aTNWSTllBakE0aPLM4lk3iK0HixRdr8RCxvg5Vxb5J+isjaNjD+S6JvjIeRvHj7Iiyb1JcuiOpN2STllBakE0aPLM4lU3xQBFfgY6HSMXGJ/mdS/wrzRwxcoqFDt8fmd+EviaRUJpsih9PxX7yhmzSEkoLskmDZxaHskkIFN61pIaB0T15My/oKrrxWOExlPhunbL4C0mJ71lhISinqm1PoiGbtITS4vq95coNqCMCS3DuLWfshsytGW/mBs160OWmvbec4+tClQgsHluwb9LgmaVF02YByaZ4k/dHUlR50vpf2m3mzJk0gwkcXxeqRGDx2IJs0uCNZcqUKY0aNAxQNvmhXduyQ6tWrWgGEzi7LmF6jgXagmzS4IFl2rRpI0eOdPDzTRFpI67s3bVr14cffpjm0cDBdWGE5jnGCLQF2aTBbUtBQcG4cePYQ1LMJuETA4mXri0HPX4NqLLGrgHN9+kM+Gvkm1e1NN/Uq3Zj2bRkyZLWrVt/8803NJt4joXUgmzS4Kpl6tSp48ePZwV7SMrZVPGuHIukxFtyTn2GyJm2oDAr8Q/jWWn5F64sTPWdO/4+3Zw5c+bPn8/nk+HIupi4uvomsFClYFqQTRrcs0yZMmXChAm8Zg9xJJv4mV/xmUnxJWrpBWzrlioeFi3pb43j8R1NIX0faWtjvE8Xh2/TWJf2a4nEkTZHFZFkNks2sX+t5ZMK1Wk8m44ePdq0adN9+/bxmbS/LlbcW30rsFClYFqQTRpcskyePHnixIm8ZrCHOHFNxz/ZpIaF+BBdY19JnzyizVc8gJQ9jtRlGRRPn8QR8rJkpCRi2yX6dRZruvHkqjjCHi4lV5LN/HzTihUrzJS3uS4SLq2+BCxUKZiWNP54ibKyMqoUYrEYVSLl5eVUiZwwoI5IpCz5+fnsXOJHOMwyfMgwu/umRFhY/9b6Wcd4AFmwJkJFQND1lyVQEldkvIm/yMJDcGUhyyBLqFlg30TKJt6Mhxi1Jeyq11g2rVmzhk9g586dX3vtNVbYWRcVPJOpUvDYgmzS4LiFbZcY1E/ALM5kU/yEr0ioii3MyZoum066b6po7LosK/H1irQim5QtVbyuUFezWbNp/fr1ffr0YUXK60KVCJ7JVCl4bME1nQZnLSNGjJg0aRJ1LLCHuPI+nWW/U3XTZVPi9SYKEXaEf/94bCVIbIjiRnNzZL7eRI+1pI/5V4l/qpFrZl2tZl7TcQYPHvz000+nti54JlNHxD8WZJMGBy1suzRy5EjqiLCHpJhNbrWKzU5STbx4lJt4VSi0Kv7qZE3KprfffrtDhw7ff/+9P1efAQt1RJKxIJs0OGWZMGHClClTqrAEN5vYtsi6D9K2Si7cqpmAYpOyiVFQULBkyRIfrj4HFuqIJGNBNmlwxDJ+/PipU6eyogqLz7IpAE3NpoMHD6anp3/++efUF6mp1TeBhToiyViQTRrsW8aNG8d+nvO6CguyqbpNzSZGUVHR9OnTqSNSI6tvBRbqiCRjQTZpsGkZO3bstGnTqFOlBdlU3abNpm+//bZt27bvv/8+9S14v/oSsFBHJBkLskmDHcuYMWOkn+FVWJBN1W3abGKL8thjj+Xm5lLfgserrwILdUSSsbh+b7kyA+qIhM8yYsSIqVOn8iMmVViCc285vzTtveX4uvTs2fPZZ5+lQwm8XH0tsFBHJBkL9k0aUrOMGjVqxowZ1LdQhQX7puq2yvZNjK1bt3bv3p0OJfBs9alSgIU6IslYkE0aUrDk5eWp92PkVGFBNlW3VZFNrBg9erR0a6cwPceiZkE2aaiu5cYbb6zsfSJGFRZkU3Vb1dn00UcfSbd2Cs1zjBE1C7JJQ7UsI0aMmDVrVmoWZFN1W9XZxJBu7eT26nNgoUrEpgXZpCF5y/Dhw2fPns2K1CzIpuq2k2bT0aNHmzVrZt7aydXVN4GFKhGbFmSThmQsP//8c15e3i233MK7qVkilU27Zz8lHUmhnTSbGNZbO7m0+hKwUCVi04Js0nBSy08//ZSbm3vrrbfy44zULNHJphnXDDvl17+Z32vM4dtTuW2T2ZLJJkaXLl3eeOMNVrix+iqwUCVi04Js0lC15ccffxw2bNicOXPoqEFqluhk0w/3vnX+WX86/TennnXKGUZCbZG+IMmWZDY9//zzffv2ZYXjq08dEVioErFpSTuso7S0lCqFkpISqkQqe0jMgDoiQbQcPHiwX79+BQUFdChBapaBvfvd1mv04t6TotC6NW732//6f2lpaaf++ren/79Tspp3fCpv/ubx91SrDb8i+6GHHqIZTKBd/d69ez/wwAPOrr5q4cBClYhNC/ZNGip7CDs+ZMiQwsJC6ltIzXJ93wF1L6yjtNpGkw7GW50LLpSOmO3C8y+QjvBW+UO8tvzl7D//6le/4neZY8V//dd/XXdtrwHZfdWWU8nxfr1y2J/J7JsYO3fu7NChw/Hjx6mvEOVnciAsyCYN2od8//33gwcPnjt3LvVFgjUWhveWzp07s1Q6/fTTzz33XLajKS8v58dVnBoL297eeeed1FHAulBHxD8WZJMG9SHfffcdCya2YwrBWDgeW1auXHnaaafxVPrxxx/ZEQ/Gwi7A69evzy4rqC+CdaGOiH8syCYN0kNOnDgxaNCg+fPnu2oxCaXl559/Hj16NE8ljjdjWbhwofaXHBlYF+qI+MeCbNJgfQirr7/++gULFrDaPYsVWBy0/Pvf/27Xrp321k6YMeqI+MeCbNJgPuTbb78dOHAg+9nLuy5ZJGBx1rJ69WrtrZ0wY9QR8Y8F2aSBP+T48eMDBgxYtGgRP8hww6ICi+OW66677sUXX+RHTDBj1BHxj8X1e8uVG1BHxM+Wr7/+uk+fPrfddhsdMnDcQpUILI5bXnrppauvvpofMcGMUUfEPxbsmzQcOXKkX79+RUVF1E/grMW3M/bFF19s3bqVOiLBXX311k7BHYtKKC3IJplvvvkmJyfnjjvuoL4FBy0M384Yy6aMjAzqiAR39dVbOwV3LCqhtCCbBP7973+zSznzxW8Jpywc385YKLOJMXfuXOutnQI9FolQWpBNFfzrX//q3bv34sWLQzAWkxQsYc0mfmunTz75hHcDPRaJUFqQTcSxY8dYMN11112sDvpYrKRgCWs2MVasWDF+/HheB30sVkJpQTbFYT9Rc3JyeDAxAj0WiRQsIc4mhnlrpxCMxSSUFmTTL//85z+zs7OXLFnCDzKCOxaVFCzhzibz1k4hGItJKC1p/PESZWVlVCnEYjGqRMrLy6kSOWFAHRE/WA4fPtyrVy+2Y6JDBgEdC1UiKVg+//zzNm3aUEckHKs/aNCgJ598Mhxj4YTSEuls2r17d8+ePdmOifoJIv68CX02FRcXX3755aWlpdQXifjq+8cS3Wu6I0eOXH311ffccw/1LQRuLAwHLeG+puMUFBTMmzePOiKBGwsjlJaIZtNXX33FdkzWT7tYCdZYOA5aopBNBw8erFu3LvsRTX0LgRsLI5SWKGbT4cOHe/Toce+994ZyRSVSsEQhmxi33nqr9tZOQRxLKC2Ryyb2nTMzM++77z5e84MSQRmLFQctEckmtnXS3topiGMJpSVa2cTOumuvvXb58uW8G8oVlUjBEpFsYhbtrZ0COhaqRAJtiVA2xWKx7t2733///bzLCOWKSqRgiU42sT/VWzsFdywqgbZEJZsOHTrUrVu3FStW8IOcUK6oRAqWSGXT1q1b2U8sfoQT3LGoBNri+r3lygyoI+KU5YcEP+r4/vvv2T+APQX37dvHvoYeY+DDsTBq3HLgwIHWrVtTRySUMzZixAi2m+Y1I9BjkQi0JST7ptQI5U8biRQskdo3MT7++ONWrVqZt3YK9FgkAm0JRzZ9uSonLWs1PeTL1VmFO6hkxznm31oJ5YpKpGCJWjYxrLd2CvpYrATaEp5sSksrLOYdyqb4wURI/VI8RxNPoVxRiRQsEcwm662dgj4WK4G2hCabCot3FKbNiacTZVPpqiyjm6C4MGeV9E1DuaISKVgimE0M89ZOIRiLSaAtIcqm+OYoa1UpskkgBUs0s4nRtWvXN954Ixxj4QTaEqpsiudRzqpiZJOFFCyRzSZ+a6dwjIUTaEu4solVq7Pirzzh9aYEKVgim02MwYMHP/7449QRcdDCCM2MMVyyhC2b4vsjyiZGPJ44eJ9OogpLlLNp586d7du3/+mnn6hvwUELIzQzxnDJknZYR2lpKVUKJSUlVIlU9pCYAXVEnLJ89913fDAn5fvvv6fHGPhwLIwat+zZs6dFixbUEYnCjI0aNWrevHnUseCsJUwz5pIlHPumFAnlTxuJFCxR3jcxPvnkk/T0dHZSUT+Bs5YwzZhLljBkE8vg22+//a233qK+yA8//ECVQihXVKJalvz8/OLiYjOb1q9fL734EpEZW7x4sXprJ8ctVInAYloCn0179+5t3749O4VctXDcHgunBi0XX3zxWWedddVVV51//vndu3c/9dRTe/ToQX9nEJEZY9f+6q2dHLdQJQKLaQl2Nn388ceXXXbZk08+6arFJPSW119/nWVTWlrab3/7W/bnmWeeeeDAAfo7g+jM2Jo1a0aPHs2PcNywqMBiWgKcTR999BH74fbUU0+x2j2LlShYsrOzjTc244wbN46OJojCjKWAb8cSaEtQs2nPnj2XXnop++HGuy5ZJKJgMbdObNP06aef0tEEYZ6xHYVpFZ/OLS5Mo98x4DFtED8S/7s51Oe/I8Xw3VgSBNoSyGzavXt327Ztn376aX6Q4YZFJSKWXr16sfNO3TQxwj1jid8S1xQVJH5tk8F/R4rhw7FwAm1x/d5y5QbUEUnN8s4772RkZKxevZoOGThuoUokIha2G/3jH/+4d+9e6lsI94wZ26XCYuM3n/j5ockmy99yfvzxRx+OhRNoS8D2TV8Y/xnBM888Q/0Ezlq8GQssVCnUpIVtixLXbgzhms6MJBZP/Aiu6QxcsgQvm7QfC3TW4s1YYKFKoUYtwu+Ea/ZNFtjf8t+FivaMuWVBNmnwZiywUKVQo5aTZJOZR3F2FCKbGC5ZkE0avBkLLFQp1KhFziZ+9cYxcqriF8jNq7xoz5hbFmSTBm/GAgtVCjVrSYGIz5hLFmSTBm/GAgtVCjVrSYGIz5hLFmSTBm/GAgtVCjVrSYGIz5hLljT+eImysjKqFGKxGFUi5eXlVImcMKCOSAqW0tLSNm3aUMeCsxZvxgILVQq+tUyaNOmuu+6ivgXMGFUiNi3IJg143rz55ptaV8RnbN++fenp6QcPHqRDCYI4Fv9bcE2nwZux+Naybdu2c/74564dr/z222/pUALMmPbWTgEdC3VE/GNBNmnwZiz+tOzYsaNxnQabxt29KGf8wOv6SPGEGeO3dnrvvffoqEFAx0IdEf9YkE0avBmLDy0smJrUbciC6Zf732VNjSfMGCtWr149bNgwfpAT3LGo+MeCbNLgzVj8ZpGCSRtPmDFeZ2dnv/jii7xmBHosEv6xIJs0eDMWX1m0wcSbNZ4wY7zeunVr9+7dec0I9Fgk/GNBNmnwZiz+sVQRTLyZ8YQZo84vv4wePXrlypW8DvpYrPjHgmzS4M1YfGI5aTDxxuNJun24SaRmjPPxxx+3atXqm2++YXXQx2LFPxbX7y1XZkAdkRQs7Nxo3bo1dSw4a/FmLH6wbNu2jb8rJyWRtrF4yu7W8+jRo/QtLERnxqhjMGvWrDlz5rAiBGMx8Y8F+yYN3oylxi1/+9vfktkxWdvCbPmdO05EZkyysJhu1qzZJ598EoKxmPjHgmzS4M1YatbCgqlx3WR3TNYmvXPHicKMaS0PPPDA+PHjwzEWjn8syCYN3oylBi07duxILZh4U+Mp9DPGqMzStWvXl19+mToKkX2OMWxakE0avBlLTVmSfPG76ibFU7hnjFOZ5fnnn8/OzqaOQjSfYxybFmSTBm/GUiMWR4KJN2s8hXjGTKqwDBw40PyvEiUi+BwzsWlBNmnwZizeWxwMJt7MeArrjFmpwrJ9+/YOHTr89NNP1LcQteeYFZsWZJMGb8biscXxYOKNx9PRo0e5RcKlsUj4wVJQULB06VLqW4jUc0zCpgXZpMGbsXhpcSmYeGPx1K9njvTOHceNsaj4wfL555+np6fHYjE6lCA6zzEVm5a0wzpKS0upUigpKaFKpLKHsNViUEckBcuePXtatGhBHQvOWrwZi2eWjRs3Nqpd36Vg4m1h9vje3Xt9+umnZE3g+FioEvGJZc6cORMmTOBHTCLyHKNKxKYF+yYN3ozFG8u2bdvc2zFZm/TOHcfZsfh8XbS3dorCc8wlC7JJgzdj8cDCLuWS/5UU+02NJwfHwvD/ujzxxBPSrZ1C/xxjuGRBNmnwZixuW1x9jamyJsWTU2PhBGJdpFs7hfs5xnHJgmzS4M1YXLXUSDDxZo0nR8ZiEoh1kW7tFOLnmIlLFmSTBm/G4p6lBoOJNzOe7I/FSlDWxXprp7A+x6y4ZEE2afBmLC5ZajyYeOPxVGb8Vz/8HyYR4nWx3toplM8xCZcsyCYN3ozFDYtPgok3Fk8DsnqzeOL/Qolwr8vcuXNvu+02VoTvOabiksX1e8uVG1BHJAVLZfeWc9bizVgct1TrRnHeNBZP/XpkV+t2dIwQrEssFmvatOnf//73kD3HqBJxyYJ9kwZvxuKsZePGjf7ZMVmb9aVxK6FfF35rpzA9xzy2IJs0eDMWBy3sUu4ilz/5badp4ykK69K1a9f169dTRyRwY2F4bEE2afBmLE5ZfPUaU2VNjafQrwvj+eef79GjB3VEAjcWhscWZJMGb8biiCUQwcSbFE/hXheTPn36aG/tFMSxeGxBNmnwZiz2LQEKJt6s8RTidbHy0ksvdejQ4ccff6R+giCOxWMLskmDN2OxaQlcMPFmxlNY10WCWbS3dgroWKgSccmCbNLgzVjsWAIaTLzxeKrsdnSM4K6LCrNob+0U0LFQJeKSJY0/XoJ/nFcLm2KqRMrLy6kSOWFAHZEULKWlpW3atKGOBWct3owlZUvK/32TfxqLp749siubtICuixZuueOOO6ZPn86PcII7FhWXLMgmDX5e0RAEE28LE58ap7FZCOK6UKXALewa9tJLL925cyc/yAjuWFRcsuCaToM3Y0nBktSN4hYUZqUxOq1aoB7kiH91svZlbid6XIKs3M2av2pZ+KVy0PxKbZPeuTMJ3LokY5Fu7RTosUi4ZEE2afBmLNW17EjuRnFmNAi5UDCqupFkNuMbVjzW2i3OrIgky9+mFRYY3bg0lXgK1rowkrRYb+0U9LFYccmCbNLgzViqZUn6xe/Nq1qyvBhVGP+zIjWMyBhVXPFl1WhSNvHEMdLHcGWuNL9SaSsL2ZdW9QXxpsZTgNaFk6Rl69at3bp143XQx2LFJQuySYM3Y0neUo135YxrN7ZVkQIlvsFJIG9khMs9A81WSPpWvGtED2EJL2r8b9XjmibFU1DWxSR5y5gxY/itnUIwFhOXLMgmDd6MJXnL8D6Dbrp6qHQ+a1tFjiRCyjhesX8xviBxzZVc4w+xQt9W2kBZ92Xa17yqbJ0atnnqr6v4eIOyLibJW8xbO4VgLCYuWZBNGrwZS/IW9oS+rOXFT+XNl85npfELOr7rsdaWJmRWxRGBKvdNPJKkKzXt1ySfgDN65I0eNoJGG5x1MamWhd/aKRxj4bhkQTZp8GYs1bIkFU88NUTkgFCz6WRNzh3dq0jK11SjScHECNC6cKplOXbsWLNmzf7+979TX8QpCyfQM+b6veXKDKgjkoKlsnvLOWvxZizVtXzwwQdtm7epIp4srwQZjW+I4iEiXdNVL0S0e6J4uknXdPJL70ntm27KzLtxSC6NMEGw1oVRXcuyZctGjBhBHREHLYxAzxj2TRq8GUsKFhZPle+ejAASLscsLwNZtlTJX2rxxoNGILFpsrzELrwJmGQ2qTsmTuDWJQVL586dX3/9depYcNYS6BkLTDbt3buX/WnNpuPHj/OC4ZSF4/ZYOKlZkn7tye+N7Zi0wcQI4rpQpVCZZe3atX369KGOBWctgZ6xYGQT2xk2aNCgU6dOGzZsYNm0adOmtm3bXnnllfTXEVvREMQT2zGxSzk+KJWArouWKixDhgxRb+3kuIUqkUBYArNvmjVr1imnnHL22Wefdtppf/jDH37/+9+vW7eO/i56KxroeOKXcqFcF5UqLDt37lRv7eS4hSqRQFgCk03ffPPNeeedx1/bYLB9E/2FgVMWjttj4di0BDSezNeYwrouElVb1Fs7uWFRCYQlSK+Fs63TGWecwYKJ7Z6smyaGgxaGB2Nh2LcELp6sL36HeF2sVG1Rb+3khkUlEJYgZRPbOp1zzjnqponhoIXhwVgYjlgCFE/Su3LhXheTk1oWL148Y8YMXjNcskgEwhKkbGJMnz79zDPPVP9fHWct3ozFKUsg4kkKJkbo14VzUsv333/frl279957j3ddskgEwpJ2WEdpaSlVCiUlJVSJVPYQtl9lUEckBcvevXsXLFhAHQvOWrwZi4OW7du3X9ykpW/jaXpm7rABg+nfmiAK68JIxrJ8+fL+/fvz2j2LlUBYArZvgoUqhTfeeMOfuyd1x8SJyLokaTFv7eSqxSQQFmSThoBafHhxx4Jp1A159E8Uic66UCUiPcS8tdPrr79+1llnHTx4kB+3EpSxmNi0IJs0BNfiq3jiweTzGVOpKcuYMWMeeuihjIyM3//+94cOHaKjFgI0Fo5NC7JJQ6AtPoknfilncywSgV4XCetDFi1atGrVqjlz5pxhwPZN+/bto7+zEIixWLFpQTZpCLqlxuPJfI3J/lisBH1drFgf0rBhw9NPP934THGc//mf//nwww/p7ywEYixWbFqQTRpCYKnBeLK++O3IWExCsC4m0kNmz5795z//mWfT2Wef/eabb9JfWAjKWExsWpBNGsJhqZF4sgYTw6mxcMKxLhz1Ie+8806XLl3YNd2pp5768ssv01ELARoLx6bF9XvLlRtQRwQWqkQctJz0dnTONvVGcQ6OhRGadWFU9pDJkyf/7ne/u/POO6lvIXBjsWnBvklDmCxV3o7OySbtmDjOjiVM61KFZfv27dQRCeJY7FiQTRpCZvHg4q6yG8U5PhaqRGAJpQXZpCF8Flfjie2YKrtRnBtjUYEllBZkk4ZQWlyKJ34pF8oZk4DFYwuySUNYLY7Hk/kaU1hnzAosHluQTRpCbHEwnqwvfod4xkxg8diCbNIQbosj8SS9KxfuGePA4rEljT9eoqysjCqFWCxGlUh5eTlVIicMqCMCC1UiHlh2797drkVGyvHEgon/Eq8J1oUqBVioI5KMxcls2r9//8sKmwyoI/LCCy9QpbBmzRqqRDZu3EiViE8sNBci/nzefPjhh6nFkxpMjECfAxJVW/hyS4TvmayFW2g6LLi0Lk5e0/XofE1m644jOvcRW2+jSQd5q+x4n7yrcqQjiVbFt6phS50/n79t2zaaDgu+3W+z3VN1L+6mZ+ZqP8dU42PxxvLqq69edF4dZelZ8+g5phyh5o2le6sOV7TrQNNhwaV1cSyb2KYpo2Fz6akcnVa6YGNGkxY0FyK+PdMY1Xrtie2Yhg0YTI8X8cNYqCPirOWmKQUrB8+SpiU6bUZm7sqVK2k6LLi0Lo5l0/Lly2f2zJMGE53GnrIzp06nuRDx7ZnGLUnGE3/x2+djUXHWktG4BfshJM1MdFrr9CalpaU0HRZcWhfHsqlP5nXbJq2QBhOd1q99N+0FHcP/5/NJ48l8V87/Y5Fw0MIu6Ppd3l2ameg0dnZfd00PmgsRl9bFmWxiadqmYTNpMNFp7Gdpm8bNaS4UAnE+VxFPZjAxAjEWKw5aIn5BN7NH3uLFi2kuRFxaF2eyiV2FsmewNJjoNPaUnTZpCs2FQlDOZ208WYOJEZSxmDhoifgFXUbD5uZ/oifh0ro4k039e+ZE+YKu/+Xdt2zZQnOhEKDzWYonKZgYARoLxykLu2CP+AUdO8c9XhcH7i23f/9+XNA5eEeuMgPqiHhgMW9Hp94ojhGssTCcsrB9caTfoeuRt3z5co/XxYF9E7ugwzt01ZoxTmUPsfnTRiIFC4unBrXr9c/uQ30LgRuLU5aMJi0jfkHHIsPjdXEgm3BBxzb8Tp0DDJsrKpGaZe/evdQRCeJYqFJI3sLWl62ytO7RafyCjs2Dx+tiN5tYmuIjl2weHDkHODZXVAIWqhSSt7B9ccTfoeMfufR4XexmEy7o+EcuHTkHODZXVAIWqhSSt+CCjm1B2Dx4vC52swkXdPwjl46cAxybKyoBC1UKSVpwQccv6Bger4utbMIFnfk7dPbPARObKyoBC1UKSVpwQWf+Dp3H62Irm3BBZ/4Onf1zwMTmikrAQpVCkhZc0PELOobH62Irm3BBxy/oGPbPARObKyoBC1UKyVhwQWde0DE8Xpe0wzpYUlKlUFJSwov333+/dXpTaTDRaexnaauLmvGpYCQzYxKVPSRmQB0RWKgScc+SP3Z8lC/oZmTm3nXXXTQXnq9L6vsmJy/oCkalWclcyQ5+mduJupyWhV/Gv3hlYVpaYQE9JCt3c/zhCwqzLAetxA+aFkeb9YKOYfPnsxWbP20kYKFKIRmLcxd0m1e1pOekQadVC9jB+JPZCn+6xp/58Wc7f8ioYuM7FGfyU0D6PuZ54UqzXtAxPF6X1LPJyQu6eKbw1aqojWyihamIJDGb6FFmNvEvjncT3821Zr2gY9g8B6zYXFEJWKhSOKnF0Qs6I1OMH7qWOv5kpp+vFZEkZRM9KpFN9A3jXfpubjXpgo7h8bqkmE0sTZ18h+6k2VSRPlI2GSvkeTZZ36Hj2DkHJGyuqAQsVCmc1OLoO3QnzyYzfeRsMp7M3meT9R06jsfrkmI2OfwOnRk0Bny1jGyqILGE1mzqtCo3/sDCXK+zSbqgY9g5ByRsrqgELFQpnNTi6Dt0ZtBw+A/d+JPZAv0kFrIpszD+Z8vCVZ5nk3RBx/B4XVLMJoffobPumxLN3DfxkEpEj5hN/OeJgZfZJF3QMeycAxI2V1QCFqoUqrY4/Q6ddd9kNnPfZIRUInrEbKLLgjgeZpN6QcfweF1SySaHL+hYqzKbWG0EUMWPGms2mSvnWTapF3SMlM8BFZsrKgELVQpVW5z+yGXV2URP44orBms20fPf02xSL+gYHq9LKtnk/EcuT5ZNFEDxxVCySd5YuZ5N6gUdI+VzQMXmikrAQpVC1RanP3J5smyiAIo/b9VskjZW9MVuZpN6QcfweF1Subcc/tuCLVu20HQkcOoeZoxyA+qIwEKViOMWtr5slaV1j05jZzc7x2k6LHi8LtXeN7333nsOX9AFqmkv6BhVzFh09hoqAbU4fUEXsKa9oGN4vC7VzqbFixfjd+hoLiykdg5QJWJzRSVgoUqhCgt+h45tXmg6LHi8LtXOpuuu6RHpCzrlHTpOaucAVSI2V1QCFqoUKrOwCzr8Dh3NhYjH61K9bGJp2jq9iTQYuy3+qrYF/gofHbS+pJ14FZy61PgL4XGEB5okXk13osUv6BprLugYKZwDLq2oBCxUKVRmce2/LTBe27YSf23beJHbgvEMF144j7/szV8Fd/O5bbYZlVzQMTxel+plE/tH35SZKw3GbrO842Y2Yz1GFQpvbWizKXHQfG9O992cauwpe9OUApoLkRTOAZdWVAIWqhQqs7Rp3NzVCzrxLbb4E9h8q073Dp2UTW49t83WpmEz7QUdw+N1qV42OfyRS940M04LJnyMoPJssqy0u+vHLuheffVVmguRFM4Bl1ZUAhaqFLQWdsHu9jt0VWRTIoZqLJv4O3Q0Fwoer0s1somlqSvv0MVn3MSYenMNjI81JfJIm02Jjz7FMVJM+G6JRXWi8Qs6p84BhksrKgELVQpaiwfv0KnZZIH/JE7ums6557bZZhr/Dx3NhYLH65LGHy9RVlZGlYUHH3yQ/dOlwTjQlJ8G8cWwQotUSTbxZiRU/OeP8t2cauwpO23SlBMnTtB0iGhnjBOLxagSKS8vp0qEKWChSsQDiwf/sbiaTca+yQipRNxYv6aidu25bbaMhs327t1Lc6Hg8bpUI5v69sh25R06ecbN1Yp3jZziP0x02VTxEfDEo1xbP3ZBt2XLFqfOAQZSgyqFmrKwC3YP/mPxSrLJ8vOVfw3llGUP5XI2sbObneP+WZdkr+ncuqBjTZpxTZdHkvGDxSSxuhXv02n3vQ6tZfyCrkn8go5BMyJS3WsHhks7YQlYqFJQLd585LLSbKKfxPwZa0QSkXjJ1Z3nttn4Ry79sy7JZpPzv0MXqMaesuyJa3OuJVxaUQlYqFJQLfjIJduC+Gddks0mV96hC07jN0WxOdcSLq2oBCxUKUgWp2+KErDGzm7+kUv/rEtS2eTiBV0QGr+gY/Ngc64lXFpRCVioUpAs+B06/pFL/6xLUtmECzr+O3Q251rCpRWVgIUqBcmCCzr+kUv/rEtS2YQLOv47dDbnWsKlFZWAhSoFqwUXdObv0PlnXU6eTbigM2+KYnOuJVxaUQlYqFKwWnBBxy/oGP5Zl5PfW2758uUz3PjIZUAae8pOmzSFT0WZAa8lUruHGVUisHhvcft36Hze2jRstn//fj4V/lmXk++bcEHHL+gYNn8OSFT2EFg8tuCCzrygY/hnXU6STSzDcEHHp4Jhc64lXFpRCVioUjAtuKAzL+gY/lmXk2QT3qHj79BxbM61hEsrKgELVQqmBe/QsS0InwqGf9blJNmECzrzgo5hc64lXFpRCVioUuAWXNBZL+gY/ln9qrIJF3TSf1tgc64lXFpRCVioUuAWXNBZL+gY/ln9qrIJF3TWCzqGzbmWcGlFJWChSoFbcEFnvaBj+Gf1q8omXNBZL+gYNudawqUVlYCFKgVmwQWddEHH8M/qV5pNuKCTLugYNudawqUVlYCFKgVmwQWddEHH8M/qpx3WwYJp1qxZA9teszV/eTTb1C6D8seOp+lIEDOgjgibMaoUSkpKqBKp7CGweGapX6vOU3nzpaWPTqt/Xu3333+fpiOBf1a/0n3TO2/uyOzabcTgYVIb0megdIS3vIFDpCO8DR90A2vSQd4qewhrNW4Z1Ke/dEHHsPlzQMKlnzYSsFClwCz9snKkpWctZM9k6Qhv3HL7nNtoLiz4Z/Wrer1JS8ienVSJwEKVAizUEYGFKhGbFmSTBlioUoCFOiKwUCVi04Js0gALVQqwUEcEFqpEbFqQTRpgoUoBFuqIwEKViE0LskkDLFQpwEIdEVioErFpQTZpgIUqBVioIwILVSI2LSe/t5xEaTXvL1VuQB0RWKgSgQUW6ohEzRK8fVMsFlu7di31EzhuoUoEFlioI1KF5e23337rrbeoYyGIY/HYErxs2rVrV7NmzbZu3UqHDBy3UCUCCyzUEanCkp+fv2TJEupYCOJYPLYE8vWmbdu2NWnS5MMPP+QHGW5YVGCBhToilT3kwIEDjRo1Kisro76FwI2F4bElqK+Fr1u3rkOHDp9//jnvumSRgAUW6ohU9pBZs2bNnTuXOiKBGwvDY0uA36d78MEHs7Kyjh8/zmr3LFZggYU6ItqHsE1Ts2bx/7+E+iLBGgvHY0uAs4mxaNGi3NxcVrhqMYEFFuqIaB/CNk1LlizBjFFHJBlLsLOJMW3atKlTp7pt4cACC3VE1IfwTVNZWRlmjDoiyVjS+OMl2JxSpRCLxagSKS8vp0rkhAF1RJyy5OXlFRYWum1heDAWBiwhsMycOXPx4sWswIxRRyQZSxiyiX2frKysZcuWUV8kWGNhwBJ0y/79+5s2bXrs2DFWY8aoI5KMJfDXdJzPPvusY8eO6mcyGYEbCyxBt/BXmniNGaOOSDKWkGQTU3zwwQfqZzIZQRwLLFSJBMJivtLEu5gx6ogkYwlPNjHUz2QyAjoW6ojAQpWIryzWTRMDM0YdkWQsocomVkifyWQEdywqsFAl4h+LtGliYMaoI5KMJWzZxLB+JpMR6LFIwEKViH8s0qaJgRmjjkgylhBmE8P8TCYj6GOxAgtVIj6xqJsmBmaMOiLJWMKZTQz+mUxWhGAsJrBQJeITi7ppYmDGqCOSjMX1e8uxHyMM6oi4bRk2bNjcuXPDMRYOLFSJ+MGyd+/eJk2afPXVV3QoAWaMOiLJWEK7b2KwL87Ozl62bBn1FUL500YCFqoUnLVoN00MzBh1RJKxhDmbGIcOHerQoYP2M5mMUK6oBCxUKThoYZsm9ZUmDmaMOiLJWEKeTYydO3dqP5PJCOWKSsBClYKDlunTp2s3TQzMGHVEkrGEP5vYQ7SfyWSEckUlYKFKwSnLgQMH2LNLu2liYMaoI5KMJRLZxP5UP5PJCOWKSsBClYJTllmzZhUVFVFHATNGHZFkLFHJJob0mUxGKFdUAhaqFByx8M80ffXVV9RXwIxRRyQZS4SyiWH9TCYjlCsqAQtVCo5Y+Ntz4RgLxz+WaGUTw/xMJiOUKyoBC1UK9i3mB8FDMBYT/1jSDusoLS2lSqGkpIQqkcoeEjOgjkhNWa6//vqZM2eyIgRjMYGFOiKuWvLz8wsLC1kRgrGY+McSuX0Tgx3Jzs5esWJFKH/aSMBClYJNi/W354I+Fiv+sUQxmxiHDh3q1KnTgw8+SH2RYI2FAwt1RNyzWD8IHvSxWPGPJaLZxNi1a1ejRo20n8kM3FgYsFBHxCWLdMuBQI9Fwj+W6GYTY926ddrPZAZxLLBQR8Qli/Tbc4Eei4R/LJHOJmbRfiYzoGOhSgQWqhRStkibJkZwx6LiH0vUs4n9qX4mM7hjUYGFKoWULeotB4I7FhX/WJBNcaTPZAZ6LBKwUKWQmkXdNDECOhbqiPjH4vq95coNqCPiK8vkyZPz8/N5HfSxWIGFKoXULNOnTy8qKqJDCQI6FuqI+MeCfVMFw4cPX7BgAStCMBYTWKhSSMGyf/9+ddPECOJY/G9BNlXAvpJ/JjMEYzGBhSqFFCwzZ87U3qcpiGPxvwXZJMA/k7l69Wrqizhl4YRjxjhRsLBNU9OmTdVNEyNwYwmEBdkks2vXriZNmmg/k+mghRGaGWNEwcI2TYsXL6aOSODGEggLsknD5s2btZ/JdNYSphkLveXAgQNs03Ts2DHqiwRrLIxAWJBNGthDtJ/JdNxClQgsPrTMmjWLbZrCMRZGICzIJg38IepnMt2wqMDiNwv/TBPbNIVgLJxAWNL44yXKysqoUojFYlSJlJeXUyVywoA6Iv63LFiwYNiwYbxmuGSRgMVvFv5Kk9sWDiymBdmkwWqZOnXqlClTeO2exQosvrLwt+fYpslViwkspgXXdBqkh5ifyXTVYgKLryzmb8+5ajGBxbQgmzRID2Fd/plMVy0msPjHYv3tOfcsVmAxLcgmDepD+Gcy16xZE4KxcGBJxmK95YB7FiuwmBZkkwbtQ3bt2tW0adOXX36Z+iLBGgsDlpNapFsOuGSRgMW0IJs0VPaQV199VfuZTEbgxgLLSS3SfZpcskjAYlqQTRqqsDz99NPqZzIZQRwLLFSJ8Ieo92lyw6ICi2lBNmmo2qJ+JpMR0LFQRwQW9qd6c0s3LCqwmBbX7y3HfvIwqCMSXMu8efOGDh3KD3KCOxYVWPbu3csu3r/66is6ZOC4hSoRWEwL9k0akrFY/+9yRqDHIgGLumliOG6hSgQW04Js0pCkxfxMJiPoY7EScQvbNGlvbumsJUwz5pIF2aQhSQv7Mv6ZTF7zgyqYMeqI+NYyffp0ddPEcNYSphlzyYJs0pC8hX8mc+3atSEYi0mULQcOHGjSpIm6aWI4aGGEZsYYLlmQTRqqZdm1axe7BNi0aRP1FTBj1BHxp2XWrFlFRUXUEXHQwgjNjDFcsiCbNFTXsm3btsaNG2s/k8nAjFFHxIcW/pmmr776ivoiTlk44ZgxjksWZJOGFCxPPvmk9jOZDMwYdUR8aOFvz4VjLJxAW5BNGlKzaD+TycCMUUfEbxbzg+AhGItJoC1ph3WUlpZSpVBSUkKVSGUPiRlQRyR8FvaDd8CAAfyISVhnjJ3MH3zwwd/+9reXX375+eef37BhwwsvvPDSSy9t3bp1x44du3fvZt/HvsWKe2Nh5OfnFxYWssJViwksVCmYFuybNNixTJs2raCggNecoM/YN998U1xcvPKhlTdNKrju6sxLW2TUO7923XMvaF73oo5NL742o1OfdtcMvDxzSMeegzv2HHj5tdmXdr2mdYd2jVpddEE99mXpF9S58tLLb+g/aN7sOWvWrNm1a9fPP//Mvm2NjMWK1WL97Tn3LFZgoUrBtCCbNNi0WD+TyQjiWN566607FxT1zbyufq06LIOu79hjXs7YNcMXvHPTY0eKXv7l/neTbz8t33lw/guvT37g4SG3TO+Z1/OSK+udd2GrRs3yBg55+MGHPvnkE7Ja8GzGLrroopycHFZbPwjuuIUqEVioUjAtyCYNNi2szs7OfuCBB3g3KGNhe+l77lzS46prWHb0bd9t6cCCt6c/ypJFyhpH2tE7t24ef8+t2aM6t2zH4m9Yv0FPPfGU+akiz2asa9euv/vd7+6++27rB8H9ti4mUbMgmzTYt/DPZD7zzDOs9vlY9u3bd9vNc1o3bt6h2cUL+038YOZqKUfcbj/f/86WCcsmZQ5tUKvutVd0ffj+B1lK8n+khOMzxrIpLS3tt7/9LcumvLy8Ll268N/vpa8QSdlClQgsVCmYFmSTBkcs/DOZr732mm/H8tDyB664pP3lTTPuGTT9i0WbpMiokfbejMdnZA2vd+6Fg7P7vfLKK/RvTeD4jPFs4px66ql169bdtGlTja8LLLxANmlwyrJt27amTZu++uqr1BepqbGUlpbeNGFK/fNrT+l5w57Za6R08EnbNP7ufh26t2zY9P6l99K/24UZM7PplFNOYfumb7/9lh2vqXXhwGJakE0aHLSsW7eubdu2LA6ob8H7sbBrpdFD8prUbrB86M1SFvizHZz/wrReeekX1LmjMP7eguMzxrPp7LPPfvjhh+loTayLFVhMi+v3lis3oI5IRCy33357z549//nPf1I/gZdjOXTo0Pjckc3qNHxsxDzp/Pd/K1+6/Zbeo9Nr1blz3iI+KImUZ6xBgwbp6enbt2+nQwZerosKLKYF+yYNjlsWLVrELhmon8CzsSxZUMRO7OU3BGOvVFk7tnhrfuaQNo2bb3rxJRpbAjszpn6BZ+tClQgspgXZpMENi/qZTA/G8vbbb1/W8uJJPYd+t6xYOtUD2j68eXW3jI43DryB/UCmQeI5FlILskmDS5bhw4cvXLiQFe+8885pp522b98+flzCpsVk/s1zWqc33T7lQen0DkFje8CGF9bbsO45PlKnZozj0upLwEKVgmlBNmlwycK+hn8m86abbvrNb37z2GOP8eMSNi2MI0eO9LjyGrZdkk7pMLX9hes7t7ps1qRpbLz2Z8yKS6svAQtVCqYF2aTBPcuhQ4dat27NNk1paWm9evWioyI2LW/+7W9sT7F65HzpZA5lK+iVm901s6yszOa6WHFv9a3AQpWCaUE2aXDD8sUXX3Tr1q1WrVrnnHOO8ZGatL/85S/8CyTsWNauerLhBXXfm/G4dA6HuD2Qd0vrRs3279/P50HCJ6uvAgtVCqYF2aTBDcs//vGPjIyMP//5zzyYGGedddbf//53/jVWUrY8fN8D7Rq3Onz7ZunsDX17YfwStlXcs2cPzYUFn6y+CixUKZiWNP54Cb5J1hKLxagSKS8vp0rkhAF1RCJo2bt3b0FBQe3atf/0pz+dcsop9957L/2FhdQsSxbe0bH5Jd/e/TfpvI1Ie23yigYX1N29ezdNRwI8k6kSCYQF2aTBA8uzzz7brl27OXPmUN9CCpanVz15ccPmx6MaTLy9kn8f2z2VlpbSpBjgmUyVSCAsuKbTECzLzrffblCrbmzhS9K5GsH29JjbO2a0o3kxCP3qc0JpQTZpCJCFHbmoTv3igoelszSybdHASTdefwPNTs2tiwks1BFJxoJs0hAgy5Cc/suHzZLOz4i3/h0zH76PbuwX7tU3CaUF2aQhKJbHVz7av+O10pmJdmzxa+nn14nFYmyKQrz6VkJpQTZpCITlu+++S69VJ7YILzNp2uMjbhuc3Z/NUlhXXyKUFmSThkBYbs6fVjRwsnROopnt6jaXb3ttW1hXXyKUFmSTBv9bvv766/rn15bORjRre33yim4dO4dy9VVCaXH93nJlBtQRgYUqkWQssyZPXzxwqnQ2oknt6taXb9myhc+YCp5j1BHxjwX7Jg3+t9SvVfs/0f6kZTJt3aii3H6D+Yyp4DlGHRH/WJBNGnxueemll2646jrpPETTtnrnXsCnTgXPMeqI+MeCbNLgc8vIwbnPj1ksnYRo2nZj174bnn+ez54EnmPUEfGPBdmkwecWdkH3/bId0kmIpm3rRhZNGDGaz54EnmPUEfGPBdmkwc+WWCzWrlEr6QxEq6wdKXq5TZMWNH0ieI5RR8Q/FmSTBj9bNm3aNLprP+kMRKuiVfaSE55j1BHxjwXZpMHPlmVL7l7cv0Y+crl5VUu6Kx4nK3dz4uCoYuNrijPT0loWfnn/u1/mduJfwykssH4fr9sVzdsePHiQZtACnmPUEfGPBdmkwc+WmwtuejKvRu4FbsRQ5krNQYZxXMwmCqxfCkalpXVatcD6KE/bwMuvffvtt2kGLeA5Rh0R/1jSDusoLS2lSqGkpIQqkcoeEjOgjggsVIlUbRkxJPfFsUul08+TVmU2Gemjzybja4xNlvkoT9uNV/V++umnaQYt4DlGHRH/WLBv0uBny9jhozaNv1s6/TxpZgwRxpUaD6zC+J8tC1fps8nILDnUvGtjuvTbsmULzaAFPMeoI+IfC7JJg58tUydMWj+ySDr9PGmV75vYwQWFWTyx/LdvuuGK69544w2aQQt4jlFHxD8WZJMGP1sWzZu/YtBM6fTzpFWZTXxzpM2meGzV5OtNmRdf8fHHH9MMWsBzjDoi/rEgmzT42fLUU0/d1DNPOv08aUYMWYlHkjWwVhaygxXZVEHNvk/XtHaD48eP0wxawHOMOiL+sSCbNPjZsmvXrh6XXCmdfmhVtHrn16bpE8FzjDoi/rEgmzT43FL3vAul0w+tsrZj2iN9M6/jsyeB5xh1RPxjQTZp8Lnl2iu6fnjzaukkRNO2eX3G3bfkHj57EniOUUfEPxbX7y1XbkAdEVioEjmpZekdi+fkjJFOQjRtu6Rhi7179/LZk8BzjDoi/rFg36TB55avvvqqce106SREU9ue2Wuk/0rTCp5j1BHxjwXZpMH/ln49sjePv0c6FdGkNilzyAP3LuczpoLnGHVE/GNBNmnwv2Xbtm2ZeLeuyvavxa/Vr1UnlKuvEkoLsklDICzXdur66sT7pBMSzWzTs4YvWXBHWFdfIpQWZJOGQFiKi4s7NLtYOiHRePtkzrpGddLZLIV19SVCaUE2aQiKZdywG5cOniadlmisZV3aZf2atWyKQrz6VkJpQTZpCIrlu+++a3Bh3T2z10hnZsTbvUNn5iX+66cQr76VUFrS+OMlysrKqFKIxWJUiZSXl1MlcsKAOiKwUCVSLctLL2xs17i1dHJGue2c/mjDC+uZc4vnGFUigbAgmzQEy7JwdmFel97SKRrNdmzx1oa16m5/fTtNDZ5jQbbgmk5D4CyjB+fNvO5G6USNYLuqZbvHH3qUJsUgCqvPCKUF2aQhiJbsrpkLB+RL52qkWla7LkvmF9F0JIjI6ofSgmzSEFBL72495/UbL52xEWk9L72qaM58mgsL0Vl9qkQCbUE2aQiuZUhO/8k9h0nnbbjbkaKXOza/ZOmCO/g8SERq9VUCbUE2aQi0ZdqY/N7tu524503pHA5lKy54uGGtuk88+rj/10UCFqoUTAuySUPQLQ8sva/xhelvTpXu7R22dt+wmxvXbfDO2zvtz5iVoK++lUBbkE0aQmDZuXNnq4uahvXV8aN3br2+U8+hvQecOHGCDdaRGTMJweqbBNri+r3lygyoIwILVSIOWvJHjOnQ7OKd0/8qnduBbo8OL0yvVeeBu++jQWL1Q2rBvklDmCybX9rUtlnr/B5DvlnyunSSB669c9Nj3S/udEOfgYcPH6bhGTg7Y2Fa/UBbkE0awmdZVnQX22ssGjBJOtuD0koKnx3etU+7Fhkvv7SZj8uKGzOmAovHFmSThlBavvvuuznTb2YJtXBA/rd3/006+X3bPrrl6Ruv7tu8QeNVjzwWynWRgMW0IJs0hNhy/Pjx+bPmsISamDnE5zcweGnc0ux2XS9refGTf13F//EhXhcTWEwLsklDFCyPPPBQh4x2V7Vst3LYLcf9tI3aP3f9rTmjG9SqO+i6ftu2baN/rkEU1gUW04Js0hAdy65du2ZMnJp+QV22Q3k0d+7Xd7wiJYVn7aNb1izqn9+ucavLW7ddcOu8o0eP0j/UQnTWhToiUbMgmzRE0LJjx44ZkwpaNGxyaaNWM3sNf3nCsv/c7fonyw8tfOnJ4fNHdu1X/7zaXdtfsfT2Oz/99FP2j8G6UEckahZkk4YoW0pLSx+6/4G8AUMuqlO/Zb3GeZ1zll0//fXJK44UvSwlSwrtwLznXhhz1/w+4/tcdk29cy9s1/LignGTNm7cyD9CaYJ1oY5I1Cxph3WwJyhVCiUlJVSJVPaQmAF1RGChSsQ/ln/84x9PP/30nJtnD8jq06ZJizrn1GpWp2GPjCtGdu57a6+R9/aftjp33obRi1+deN/2KQ8WF6x8c+rK1yc/sGXCsvUjix4deuvivpNvyswd2qlX5xbt0s+rXefcCzpefNnwQcPuvL1o06ZNBw8e5BYVrAt1RKJmwb5JAyxUKezbt2/37t2bN29+7LHHFhfdOfumm/PHjB85NG9I34FGuz534JDRuTdOHT+pcPaty5be88QTT2zdupU923744Qf6FgkiMmOwUEckGQuySQMsVCnAQh0RWKgSsWlBNmmAhSoFWKgjAgtVIjYtyCYNsFClAAt1RGChSsSmBdmkARaqFGChjggsVInYtCCbNMBClQIs1BGBhSoRmxZkkwZYqFKAhToisFAlYtPi+r3lyg2oIwILVSKwwEIdkahZsG/SAAtVCrBQRwQWqkRsWX755f8D6XxK8MHnpnUAAAAASUVORK5CYII=)"
      ]
    },
    {
      "cell_type": "code",
      "metadata": {
        "id": "NvGBM5ynayIl"
      },
      "source": [
        "#6\n",
        "A6 = np.zeros(A.shape)\n",
        "A6"
      ],
      "execution_count": null,
      "outputs": []
    },
    {
      "cell_type": "code",
      "metadata": {
        "id": "h_eF2OoFazO2"
      },
      "source": [
        "B6 = A.dot(np.zeros(A.shape))\n",
        "B6"
      ],
      "execution_count": null,
      "outputs": []
    },
    {
      "cell_type": "code",
      "metadata": {
        "id": "nPg3ZZFla3ap"
      },
      "source": [
        "np.array_equal(A6,B6)"
      ],
      "execution_count": null,
      "outputs": []
    },
    {
      "cell_type": "markdown",
      "metadata": {
        "id": "90pKp6wTa5ZP"
      },
      "source": [
        "![f6.png](data:image/png;base64,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)"
      ]
    },
    {
      "cell_type": "markdown",
      "metadata": {
        "id": "L43jBPT5cYQB"
      },
      "source": [
        "## ***CONCLUSION***\n",
        "For your conclusion synthesize the concept and application of the laboratory. Briefly discuss what you have learned and achieved in this activity."
      ]
    },
    {
      "cell_type": "markdown",
      "metadata": {
        "id": "WB-S6a3dcZlK"
      },
      "source": [
        "***The students found out that this laboratory experiment and our last experiment are alike. Both experiment talks about matrixes and operations. But the difference is that this laboratory experiment emphasized Dot Product, Determinant, Transposition, and Inverse. Through this laboratory experiment, the students are able to prove the six given equations given regarding the topics that our professor discussed to us. Finally, this activity made the students' understanding of matrices and their operations broader.***"
      ]
    }
  ]
}