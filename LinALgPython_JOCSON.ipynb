{
  "nbformat": 4,
  "nbformat_minor": 0,
  "metadata": {
    "colab": {
      "name": "LinALgPython_JOCSON.ipynb",
      "provenance": [],
      "collapsed_sections": [],
      "authorship_tag": "ABX9TyPSjG4HuI31a6lhH0FlKPxg",
      "include_colab_link": true
    },
    "kernelspec": {
      "name": "python3",
      "display_name": "Python 3"
    },
    "language_info": {
      "name": "python"
    }
  },
  "cells": [
    {
      "cell_type": "markdown",
      "metadata": {
        "id": "view-in-github",
        "colab_type": "text"
      },
      "source": [
        "<a href=\"https://colab.research.google.com/github/domsjcsn/Linear-ALgebra---Python/blob/main/LinALgPython_JOCSON.ipynb\" target=\"_parent\"><img src=\"https://colab.research.google.com/assets/colab-badge.svg\" alt=\"Open In Colab\"/></a>"
      ]
    },
    {
      "cell_type": "markdown",
      "metadata": {
        "id": "CazvqVkYv3Nq"
      },
      "source": [
        "# **WELCOME TO PYTHON FUNDAMENTALS**\n",
        "\n",
        "In this module, we are going to establish our skills in Python programming. In this notebook we are going to cover:\n",
        "\n",
        "*   Variable and Data Types\n",
        "*   Operations\n",
        "*   Input and Output Operations\n",
        "*   Logic Control\n",
        "*   Iterables\n",
        "*   Functions"
      ]
    },
    {
      "cell_type": "markdown",
      "metadata": {
        "id": "yyjT7z7lv5-Y"
      },
      "source": [
        "## **Variables and Data Types**\n",
        "![image](https://static.javatpoint.com/python/images/python-data-types.png) \n",
        "\n",
        "<blockquote> Variable and data types may be utilized by the user for giving definition, declaring, and executing mathematical terms and functions. Also, variables and data types are the given different values.  You can store a value in a variable, which is also a memory location. And the variable and data types will depend on what the user will input. [1]"
      ]
    },
    {
      "cell_type": "code",
      "metadata": {
        "id": "KCcYPjrZvmAG"
      },
      "source": [
        "x = 1\n",
        "a,b = 3, -2"
      ],
      "execution_count": null,
      "outputs": []
    },
    {
      "cell_type": "code",
      "metadata": {
        "colab": {
          "base_uri": "https://localhost:8080/"
        },
        "id": "6Ww1on7xwcu0",
        "outputId": "e3a0a937-2216-4053-b320-4242b11caa25"
      },
      "source": [
        "type(x)"
      ],
      "execution_count": null,
      "outputs": [
        {
          "output_type": "execute_result",
          "data": {
            "text/plain": [
              "int"
            ]
          },
          "metadata": {},
          "execution_count": 139
        }
      ]
    },
    {
      "cell_type": "code",
      "metadata": {
        "colab": {
          "base_uri": "https://localhost:8080/"
        },
        "id": "HUd2GFB9wei7",
        "outputId": "0aca5a2f-98ad-4932-b298-548eb32daddb"
      },
      "source": [
        "y = 3.0\n",
        "type(y)"
      ],
      "execution_count": null,
      "outputs": [
        {
          "output_type": "execute_result",
          "data": {
            "text/plain": [
              "float"
            ]
          },
          "metadata": {},
          "execution_count": 140
        }
      ]
    },
    {
      "cell_type": "code",
      "metadata": {
        "colab": {
          "base_uri": "https://localhost:8080/"
        },
        "id": "YHZar8BYwjR3",
        "outputId": "577bc425-4a81-4349-cbfa-68db33490582"
      },
      "source": [
        "x = float(x)\n",
        "type(x)\n",
        "x"
      ],
      "execution_count": null,
      "outputs": [
        {
          "output_type": "execute_result",
          "data": {
            "text/plain": [
              "1.0"
            ]
          },
          "metadata": {},
          "execution_count": 141
        }
      ]
    },
    {
      "cell_type": "code",
      "metadata": {
        "colab": {
          "base_uri": "https://localhost:8080/"
        },
        "id": "H2SXqNu1wmo0",
        "outputId": "ad28c979-1593-4285-fc52-80b98f8b8c0e"
      },
      "source": [
        "s, t, u = \"1\", '3', 'three'\n",
        "type(s) "
      ],
      "execution_count": null,
      "outputs": [
        {
          "output_type": "execute_result",
          "data": {
            "text/plain": [
              "str"
            ]
          },
          "metadata": {},
          "execution_count": 142
        }
      ]
    },
    {
      "cell_type": "markdown",
      "metadata": {
        "id": "aVNz8nb4wtz7"
      },
      "source": [
        "## **Operations**\n",
        "![image](https://us.123rf.com/450wm/sabuhinovruzov/sabuhinovruzov2006/sabuhinovruzov200603084/150600486-add-subtract-divide-multiply-symbols-thin-line-education-concept-math-calculate-sign-on-white-backgr.jpg?ver=6_)\n",
        "<blockquote>\n",
        "In order to solve and calculate for a mathematical problem, mathematical process is applied. There are numerous operations that one can use, including the basics, which are the Addition, Multiplication, Subtradction, and Division. [2]"
      ]
    },
    {
      "cell_type": "markdown",
      "metadata": {
        "id": "e8YvPG-Rw01c"
      },
      "source": [
        "## **Arithmetic** \n",
        "\n",
        "=========================================\n",
        "\n",
        "Arithmetic are symbols that indicate that a mathematical operation is required. \n"
      ]
    },
    {
      "cell_type": "code",
      "metadata": {
        "id": "7l9JIRk_w3CN"
      },
      "source": [
        "w, x, y,z = 4.0, -3.0, 2, -32"
      ],
      "execution_count": null,
      "outputs": []
    },
    {
      "cell_type": "code",
      "metadata": {
        "colab": {
          "base_uri": "https://localhost:8080/"
        },
        "id": "uEXISVYww769",
        "outputId": "63a14d73-b056-493e-f552-6fcb31ac806c"
      },
      "source": [
        "### Addition\n",
        "S = w + x\n",
        "S"
      ],
      "execution_count": null,
      "outputs": [
        {
          "output_type": "execute_result",
          "data": {
            "text/plain": [
              "1.0"
            ]
          },
          "metadata": {},
          "execution_count": 144
        }
      ]
    },
    {
      "cell_type": "code",
      "metadata": {
        "id": "Polf_PX5w-sR"
      },
      "source": [
        "### Subtraction"
      ],
      "execution_count": null,
      "outputs": []
    },
    {
      "cell_type": "code",
      "metadata": {
        "colab": {
          "base_uri": "https://localhost:8080/"
        },
        "id": "FKivEfYrxAmN",
        "outputId": "d15660f5-83f4-43bb-bf32-b525b39a2f16"
      },
      "source": [
        "D = y - z\n",
        "D"
      ],
      "execution_count": null,
      "outputs": [
        {
          "output_type": "execute_result",
          "data": {
            "text/plain": [
              "34"
            ]
          },
          "metadata": {},
          "execution_count": 146
        }
      ]
    },
    {
      "cell_type": "code",
      "metadata": {
        "colab": {
          "base_uri": "https://localhost:8080/"
        },
        "id": "EKO2FgGRxGmd",
        "outputId": "8477960d-5cac-4c41-eeaa-9ac572b5588c"
      },
      "source": [
        "### Multiplication\n",
        "P = w*z\n",
        "P"
      ],
      "execution_count": null,
      "outputs": [
        {
          "output_type": "execute_result",
          "data": {
            "text/plain": [
              "-128.0"
            ]
          },
          "metadata": {},
          "execution_count": 147
        }
      ]
    },
    {
      "cell_type": "code",
      "metadata": {
        "colab": {
          "base_uri": "https://localhost:8080/"
        },
        "id": "hteW25k-xJ7i",
        "outputId": "e8f1edbe-4043-46cf-9576-d0de582014ec"
      },
      "source": [
        "### Division\n",
        "Q = y/x\n",
        "Q"
      ],
      "execution_count": null,
      "outputs": [
        {
          "output_type": "execute_result",
          "data": {
            "text/plain": [
              "-0.6666666666666666"
            ]
          },
          "metadata": {},
          "execution_count": 148
        }
      ]
    },
    {
      "cell_type": "markdown",
      "metadata": {
        "id": "yEo2YY9dxOVb"
      },
      "source": [
        "![image](https://encrypted-tbn0.gstatic.com/images?q=tbn:ANd9GcSEu9oWAinwh6gdScpIdxtjdP5AUX3USjFV_g&usqp=CAU) \n",
        "\n",
        "<blockquote>\n",
        "Floor division returns the highest possible integer. The floor division is indicated by the \"⌊ ⌋\" symbol. [3]"
      ]
    },
    {
      "cell_type": "code",
      "metadata": {
        "colab": {
          "base_uri": "https://localhost:8080/"
        },
        "id": "U0iDOjC8xPuA",
        "outputId": "2b762761-2101-4a85-aede-ed0f56832735"
      },
      "source": [
        "### Floor Division\n",
        "Qf = w//x\n",
        "Qf"
      ],
      "execution_count": null,
      "outputs": [
        {
          "output_type": "execute_result",
          "data": {
            "text/plain": [
              "-2.0"
            ]
          },
          "metadata": {},
          "execution_count": 149
        }
      ]
    },
    {
      "cell_type": "code",
      "metadata": {
        "colab": {
          "base_uri": "https://localhost:8080/"
        },
        "id": "Lh--Q0_gxTg-",
        "outputId": "4913585c-e0a0-4388-ddd5-cac7a914ac95"
      },
      "source": [
        "### Exponentiation\n",
        "E = w**w\n",
        "E"
      ],
      "execution_count": null,
      "outputs": [
        {
          "output_type": "execute_result",
          "data": {
            "text/plain": [
              "256.0"
            ]
          },
          "metadata": {},
          "execution_count": 150
        }
      ]
    },
    {
      "cell_type": "markdown",
      "metadata": {
        "id": "4m22GjKkxXxx"
      },
      "source": [
        "![image](https://www.computerhope.com/jargon/m/modulo_animation.gif) \n",
        "\n",
        "<blockquote>\n",
        "Modelo operations is also a mathematical operation like the Floor division. The modelo operator is utilized to find the remainder of two divided numbers. It is indicated by the symbol \"%\". [4]"
      ]
    },
    {
      "cell_type": "code",
      "metadata": {
        "colab": {
          "base_uri": "https://localhost:8080/"
        },
        "id": "7k5Ti638xYx7",
        "outputId": "232fdbea-82a0-4d89-ca03-d165b6d4f63d"
      },
      "source": [
        "### Modulo\n",
        "mod = z%x\n",
        "mod"
      ],
      "execution_count": null,
      "outputs": [
        {
          "output_type": "execute_result",
          "data": {
            "text/plain": [
              "-2.0"
            ]
          },
          "metadata": {},
          "execution_count": 151
        }
      ]
    },
    {
      "cell_type": "markdown",
      "metadata": {
        "id": "UEJKJ9q6xhEI"
      },
      "source": [
        "## ***Assignment*** \n",
        "\n",
        "The Assignment operator is the operator used to assign a new value to a variable, property, event or indexer element. "
      ]
    },
    {
      "cell_type": "code",
      "metadata": {
        "id": "DoxOaGBkxitD"
      },
      "source": [
        "A, B, C, D, E = 0, 100, 2, 1, 2"
      ],
      "execution_count": null,
      "outputs": []
    },
    {
      "cell_type": "code",
      "metadata": {
        "colab": {
          "base_uri": "https://localhost:8080/"
        },
        "id": "fSFJUQ7Oxmon",
        "outputId": "25696d83-0bed-47dc-d53d-bd7f23035c5d"
      },
      "source": [
        "A += w\n",
        "A"
      ],
      "execution_count": null,
      "outputs": [
        {
          "output_type": "execute_result",
          "data": {
            "text/plain": [
              "4.0"
            ]
          },
          "metadata": {},
          "execution_count": 153
        }
      ]
    },
    {
      "cell_type": "code",
      "metadata": {
        "colab": {
          "base_uri": "https://localhost:8080/"
        },
        "id": "L0enOIPWxoBa",
        "outputId": "70eecd3f-eaa6-48e7-89cd-a84abc623d06"
      },
      "source": [
        "B -= x\n",
        "B"
      ],
      "execution_count": null,
      "outputs": [
        {
          "output_type": "execute_result",
          "data": {
            "text/plain": [
              "103.0"
            ]
          },
          "metadata": {},
          "execution_count": 154
        }
      ]
    },
    {
      "cell_type": "code",
      "metadata": {
        "colab": {
          "base_uri": "https://localhost:8080/"
        },
        "id": "YSwJVTEGxpnt",
        "outputId": "0066b8d5-849a-42cc-e962-3075cc26954b"
      },
      "source": [
        "C *= w\n",
        "C"
      ],
      "execution_count": null,
      "outputs": [
        {
          "output_type": "execute_result",
          "data": {
            "text/plain": [
              "8.0"
            ]
          },
          "metadata": {},
          "execution_count": 155
        }
      ]
    },
    {
      "cell_type": "code",
      "metadata": {
        "colab": {
          "base_uri": "https://localhost:8080/"
        },
        "id": "hBZk9K0UxrXk",
        "outputId": "6e368d93-0fbd-4029-b514-7d725a8ccc34"
      },
      "source": [
        "D /= x\n",
        "D"
      ],
      "execution_count": null,
      "outputs": [
        {
          "output_type": "execute_result",
          "data": {
            "text/plain": [
              "-0.3333333333333333"
            ]
          },
          "metadata": {},
          "execution_count": 156
        }
      ]
    },
    {
      "cell_type": "code",
      "metadata": {
        "colab": {
          "base_uri": "https://localhost:8080/"
        },
        "id": "uVIEAQKmxs6K",
        "outputId": "f64168cf-0ff3-4c81-d6fd-2b37176caeb3"
      },
      "source": [
        "E **= y\n",
        "E"
      ],
      "execution_count": null,
      "outputs": [
        {
          "output_type": "execute_result",
          "data": {
            "text/plain": [
              "4"
            ]
          },
          "metadata": {},
          "execution_count": 157
        }
      ]
    },
    {
      "cell_type": "markdown",
      "metadata": {
        "id": "IDrHF01Bxy05"
      },
      "source": [
        "## ***Comparators***\n",
        "\n",
        "\n",
        "Comparators are used to compare different types of values or objects based on one's liking. [6]"
      ]
    },
    {
      "cell_type": "markdown",
      "metadata": {
        "id": "R_nt_8LUxvrW"
      },
      "source": [
        "![image](https://cdn.educba.com/academy/wp-content/uploads/2019/09/Python-Comparison-Operators-1.png)"
      ]
    },
    {
      "cell_type": "code",
      "metadata": {
        "id": "6hPWBMCHxxPe"
      },
      "source": [
        "size_1, size_2, size_3 = 1,2.0, \"1\"\n",
        "true_size = 1.0"
      ],
      "execution_count": null,
      "outputs": []
    },
    {
      "cell_type": "code",
      "metadata": {
        "colab": {
          "base_uri": "https://localhost:8080/"
        },
        "id": "CurJ3kJPyAE8",
        "outputId": "983fcb14-5f7e-498d-e1f4-ca30e3d84900"
      },
      "source": [
        "## Equality \n",
        "size_1 == true_size"
      ],
      "execution_count": null,
      "outputs": [
        {
          "output_type": "execute_result",
          "data": {
            "text/plain": [
              "True"
            ]
          },
          "metadata": {},
          "execution_count": 159
        }
      ]
    },
    {
      "cell_type": "code",
      "metadata": {
        "colab": {
          "base_uri": "https://localhost:8080/"
        },
        "id": "H5EuizaOyDrv",
        "outputId": "25730e09-1be5-4ef9-e5c7-14c22bb7ee1d"
      },
      "source": [
        "## Non-Equality\n",
        "size_2 != true_size"
      ],
      "execution_count": null,
      "outputs": [
        {
          "output_type": "execute_result",
          "data": {
            "text/plain": [
              "True"
            ]
          },
          "metadata": {},
          "execution_count": 160
        }
      ]
    },
    {
      "cell_type": "code",
      "metadata": {
        "id": "8--IEOk2yHOG"
      },
      "source": [
        "## Inequality\n",
        "s1 = size_1 > size_2\n",
        "s2 = size_1 < size_2/2\n",
        "s3 = true_size >= size_1\n",
        "s4 = size_2 <= true_size"
      ],
      "execution_count": null,
      "outputs": []
    },
    {
      "cell_type": "markdown",
      "metadata": {
        "id": "cGsBCG20yU_L"
      },
      "source": [
        "## ***Logical***\n",
        "\n",
        "This is a set of principles that depicts how components should be lay out  so your device can execute tasks without failures. "
      ]
    },
    {
      "cell_type": "code",
      "metadata": {
        "colab": {
          "base_uri": "https://localhost:8080/"
        },
        "id": "pxIQOVXNyXMX",
        "outputId": "4416e9ca-1e37-40df-eaac-ad936dd3c5b1"
      },
      "source": [
        "size_1 == true_size\n",
        "size_1"
      ],
      "execution_count": null,
      "outputs": [
        {
          "output_type": "execute_result",
          "data": {
            "text/plain": [
              "1"
            ]
          },
          "metadata": {},
          "execution_count": 162
        }
      ]
    },
    {
      "cell_type": "code",
      "metadata": {
        "colab": {
          "base_uri": "https://localhost:8080/"
        },
        "id": "2MR7W_1xyaFS",
        "outputId": "7625fb0f-cd56-4d4c-e11d-523560e1a7b6"
      },
      "source": [
        "size_1 is true_size"
      ],
      "execution_count": null,
      "outputs": [
        {
          "output_type": "execute_result",
          "data": {
            "text/plain": [
              "False"
            ]
          },
          "metadata": {},
          "execution_count": 163
        }
      ]
    },
    {
      "cell_type": "code",
      "metadata": {
        "colab": {
          "base_uri": "https://localhost:8080/"
        },
        "id": "DxMiUUBSycg7",
        "outputId": "0ba7da80-fa0f-4104-bd58-057b43ea0d7c"
      },
      "source": [
        "size_1 is not true_size"
      ],
      "execution_count": null,
      "outputs": [
        {
          "output_type": "execute_result",
          "data": {
            "text/plain": [
              "True"
            ]
          },
          "metadata": {},
          "execution_count": 164
        }
      ]
    },
    {
      "cell_type": "code",
      "metadata": {
        "colab": {
          "base_uri": "https://localhost:8080/"
        },
        "id": "xud6BrDNyen4",
        "outputId": "8ed23d82-7ba3-42ff-b874-bfdff39355ab"
      },
      "source": [
        "P, Q = True, False\n",
        "conj = P and Q\n",
        "conj"
      ],
      "execution_count": null,
      "outputs": [
        {
          "output_type": "execute_result",
          "data": {
            "text/plain": [
              "False"
            ]
          },
          "metadata": {},
          "execution_count": 165
        }
      ]
    },
    {
      "cell_type": "code",
      "metadata": {
        "colab": {
          "base_uri": "https://localhost:8080/"
        },
        "id": "dgvbgvogyiw0",
        "outputId": "33e72e7f-a139-4585-ec21-9677f7f34013"
      },
      "source": [
        "disj = P or Q\n",
        "disj"
      ],
      "execution_count": null,
      "outputs": [
        {
          "output_type": "execute_result",
          "data": {
            "text/plain": [
              "True"
            ]
          },
          "metadata": {},
          "execution_count": 166
        }
      ]
    },
    {
      "cell_type": "code",
      "metadata": {
        "colab": {
          "base_uri": "https://localhost:8080/"
        },
        "id": "MY2MFtpjykt5",
        "outputId": "24351197-8f1d-4633-f3b4-ca6e267748c3"
      },
      "source": [
        "nand = not(P and Q)\n",
        "nand"
      ],
      "execution_count": null,
      "outputs": [
        {
          "output_type": "execute_result",
          "data": {
            "text/plain": [
              "True"
            ]
          },
          "metadata": {},
          "execution_count": 167
        }
      ]
    },
    {
      "cell_type": "code",
      "metadata": {
        "colab": {
          "base_uri": "https://localhost:8080/"
        },
        "id": "y3BcKwyvynep",
        "outputId": "09d0c24c-5fd1-4aa3-b924-5b005f06e40a"
      },
      "source": [
        "xor = (not P  and Q) or (P and not Q)\n",
        "xor"
      ],
      "execution_count": null,
      "outputs": [
        {
          "output_type": "execute_result",
          "data": {
            "text/plain": [
              "True"
            ]
          },
          "metadata": {},
          "execution_count": 168
        }
      ]
    },
    {
      "cell_type": "markdown",
      "metadata": {
        "id": "Y3xrkXxvyvt0"
      },
      "source": [
        "## **Input & Output**\n",
        "\n",
        "Input refers to what the user loads to the program. And Output refers to what the program gives back to the user. "
      ]
    },
    {
      "cell_type": "code",
      "metadata": {
        "colab": {
          "base_uri": "https://localhost:8080/"
        },
        "id": "p_DuQqgGywqx",
        "outputId": "cdc782b0-8636-4337-b7c3-13178208183d"
      },
      "source": [
        "print(\"Hello World!\")"
      ],
      "execution_count": null,
      "outputs": [
        {
          "output_type": "stream",
          "name": "stdout",
          "text": [
            "Hello World!\n"
          ]
        }
      ]
    },
    {
      "cell_type": "code",
      "metadata": {
        "id": "GCvp5mSnyzM6"
      },
      "source": [
        "cnt = 14000"
      ],
      "execution_count": null,
      "outputs": []
    },
    {
      "cell_type": "code",
      "metadata": {
        "colab": {
          "base_uri": "https://localhost:8080/"
        },
        "id": "A0P43fLpy0rq",
        "outputId": "e146db05-2a67-43b6-ae6b-964fc599e16d"
      },
      "source": [
        "string= \"Hello World!\"\n",
        "print(string, \", Current COVID count is:\", cnt)\n",
        "cnt += 10000"
      ],
      "execution_count": null,
      "outputs": [
        {
          "output_type": "stream",
          "name": "stdout",
          "text": [
            "Hello World! , Current COVID count is: 14000\n"
          ]
        }
      ]
    },
    {
      "cell_type": "code",
      "metadata": {
        "colab": {
          "base_uri": "https://localhost:8080/"
        },
        "id": "5krAZxusy8uZ",
        "outputId": "0b7b5bdf-8fd8-4caf-f939-78f33f1d02c0"
      },
      "source": [
        "print(f\"{string}, current count is: {cnt}\")"
      ],
      "execution_count": null,
      "outputs": [
        {
          "output_type": "stream",
          "name": "stdout",
          "text": [
            "Hello World!, current count is: 24000\n"
          ]
        }
      ]
    },
    {
      "cell_type": "code",
      "metadata": {
        "colab": {
          "base_uri": "https://localhost:8080/"
        },
        "id": "sgbWVVrezFpf",
        "outputId": "1fd73f07-d203-4ff1-bc08-cbbeebf6369a"
      },
      "source": [
        "sem_grade = 86.25\n",
        "name = \"Franz\"\n",
        "print(\"Hello {}, your semestral grade is: {}\".format(name, sem_grade))"
      ],
      "execution_count": null,
      "outputs": [
        {
          "output_type": "stream",
          "name": "stdout",
          "text": [
            "Hello Franz, your semestral grade is: 86.25\n"
          ]
        }
      ]
    },
    {
      "cell_type": "code",
      "metadata": {
        "colab": {
          "base_uri": "https://localhost:8080/"
        },
        "id": "wqgUfYc5zS36",
        "outputId": "3fb2baf1-44c2-49bc-94e4-91af5f147333"
      },
      "source": [
        "pg, mg, fg = 0.3, 0.3, 0.4\n",
        "print(\"The weights of your semestral grades are:\\\n",
        "\\n\\t {:.2%} for Prelim\\\n",
        "\\n\\t {:.2%} for Midterms, and\\\n",
        "\\n\\t {:.2%} for Finals.\".format(pg, mg, fg))"
      ],
      "execution_count": null,
      "outputs": [
        {
          "output_type": "stream",
          "name": "stdout",
          "text": [
            "The weights of your semestral grades are:\n",
            "\t 30.00% for Prelim\n",
            "\t 30.00% for Midterms, and\n",
            "\t 40.00% for Finals.\n"
          ]
        }
      ]
    },
    {
      "cell_type": "code",
      "metadata": {
        "id": "zVA2Lf-1zsKu",
        "colab": {
          "base_uri": "https://localhost:8080/"
        },
        "outputId": "f28ef089-753d-43dd-d8fc-c4681bdecf4a"
      },
      "source": [
        "e = input(\"Enter an number: \")\n",
        "e"
      ],
      "execution_count": null,
      "outputs": [
        {
          "name": "stdout",
          "output_type": "stream",
          "text": [
            "Enter an number: 1\n"
          ]
        }
      ]
    },
    {
      "cell_type": "code",
      "metadata": {
        "id": "6GDZVwtr0YSt"
      },
      "source": [
        "name = input(\"Enter your name: \")\n",
        "prelimsgrade =int(input(\"Enter your prelim grade: \"))\n",
        "midtermsgrade =int(input(\"Enter your midterm grade: \"))\n",
        "finalsgrade =int(input(\"Enter your finals grade: \"))\n",
        "sum = int(prelimsgrade + midtermsgrade + finalsgrade)\n",
        "semester_grade = sum/3\n",
        "print(\"Hello {}, your semestral grade is: {}\".format(name, semester_grade))"
      ],
      "execution_count": null,
      "outputs": []
    },
    {
      "cell_type": "markdown",
      "metadata": {
        "id": "9d3rgy7n0Y64"
      },
      "source": [
        "## ***Looping Statements*** \n",
        "<blockquote> \n",
        "Looping statements performs for a number of repetitions until specific conditions are met. \n",
        "\n",
        "![image](https://javatutoring.com/wp-content/uploads/2016/12/loops-in-java.jpg)"
      ]
    },
    {
      "cell_type": "markdown",
      "metadata": {
        "id": "EHtOXJIM0vMa"
      },
      "source": [
        "## ***While Statement*** \n",
        "\n",
        "While statement executes for a number of repetition until it reaches a specific condition that is false. "
      ]
    },
    {
      "cell_type": "code",
      "metadata": {
        "id": "4TxbKcM40wH2"
      },
      "source": [
        "## while loops \n",
        "i, j = 0, 10\n",
        "while(i<=j):\n",
        "  print(f\"{i}\\t|\\t{j}\")\n",
        "  i += 1"
      ],
      "execution_count": null,
      "outputs": []
    },
    {
      "cell_type": "markdown",
      "metadata": {
        "id": "VQx-xsi7090E"
      },
      "source": [
        "### ***For Statement***\n",
        "\n",
        "For statement enables the looping of sets for a number of repetition until it achieves a false condition. "
      ]
    },
    {
      "cell_type": "code",
      "metadata": {
        "id": "WWVSY4NN1HqH"
      },
      "source": [
        "# for(int = 0; i<10; i++){\n",
        "# printf(i)\n",
        "# }\n",
        "\n",
        "i = 0\n",
        "for i in range(11):\n",
        "  print(i)"
      ],
      "execution_count": null,
      "outputs": []
    },
    {
      "cell_type": "code",
      "metadata": {
        "id": "WL-FQk4u1UbH"
      },
      "source": [
        "playlist = [\"Beside You\", \"Meet me at our spot\", \"Sandali\"]\n",
        "print('Now playing:\\n')\n",
        "for song in playlist:\n",
        "  print(song)"
      ],
      "execution_count": null,
      "outputs": []
    },
    {
      "cell_type": "markdown",
      "metadata": {
        "id": "mqTL5xLK1mrU"
      },
      "source": [
        "## **FLOW CONTROL**"
      ]
    },
    {
      "cell_type": "markdown",
      "metadata": {
        "id": "eW9vRRi11nj6"
      },
      "source": [
        "## ***Conditional Statement***\n",
        "\n",
        "The conditional statement decides whether certain statements need to be executed or not based on a given condition. "
      ]
    },
    {
      "cell_type": "code",
      "metadata": {
        "id": "mVj3qIPL1qJ9"
      },
      "source": [
        "num_1, num_2 = 12, 12\n",
        "if(num_1 == num_2):\n",
        "  print(\"HAHA\")\n",
        "  elif(num_1>num_2):\n",
        "    print(\"HOHO\")\n",
        "    else:\n",
        "      print(\"HUHU\")"
      ],
      "execution_count": null,
      "outputs": []
    },
    {
      "cell_type": "markdown",
      "metadata": {
        "id": "FiLeM3pA17eA"
      },
      "source": [
        "## ***FUNCTIONS***\n",
        "\n",
        "A function is a block of code that is utilized to reach a specific result or to execute a single action. "
      ]
    },
    {
      "cell_type": "code",
      "metadata": {
        "id": "aVOTK2DE186Y"
      },
      "source": [
        "# void DeleteUser (int userid){\n",
        "#   delete(userid);\n",
        "# }\n",
        "\n",
        "def delete_user (userid):\n",
        "  print(\"Successfully delete user: {}\".format(userid))"
      ],
      "execution_count": null,
      "outputs": []
    },
    {
      "cell_type": "code",
      "metadata": {
        "id": "s-aDsaHG2Mzk"
      },
      "source": [
        "user = 202014736  \n",
        "delete_user(202014736)"
      ],
      "execution_count": null,
      "outputs": []
    },
    {
      "cell_type": "code",
      "metadata": {
        "id": "zvgVgscP2QNd"
      },
      "source": [
        "def add(addend1, addend2):\n",
        "  sum = addend1 + addend2\n",
        "  return sum"
      ],
      "execution_count": null,
      "outputs": []
    },
    {
      "cell_type": "code",
      "metadata": {
        "id": "OyE-TDDy2XVZ"
      },
      "source": [
        "add(3, 4)"
      ],
      "execution_count": null,
      "outputs": []
    },
    {
      "cell_type": "markdown",
      "metadata": {
        "id": "ZQ3nZMTN2afu"
      },
      "source": [
        "## **REFERENCES**\n",
        "\n",
        "[1] Priya Pedamkar (2020). [Variable Types](https://www.educba.com/python-variable-types)\n",
        "\n",
        "[2] w3Schools (2021). [Operations](https://www.w3schools.com/python/python_operators.asp)\n",
        "\n",
        "[3] Python Tutorial (2021). [Floor Division](https://www.pythontutorial.net/advanced-python/python-floor-division/)\n",
        "\n",
        "[4] Tutorials Point (2021). [Comparators](https://www.tutorialspoint.com/python/python_basic_operators.htm)"
      ]
    },
    {
      "cell_type": "markdown",
      "metadata": {
        "id": "LUXPkIFn2eDH"
      },
      "source": [
        "![image](https://i.pinimg.com/originals/f0/57/45/f05745097ea6273709bfe2e727989488.jpg)"
      ]
    }
  ]
}