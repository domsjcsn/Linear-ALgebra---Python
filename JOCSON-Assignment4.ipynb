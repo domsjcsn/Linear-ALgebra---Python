{
  "nbformat": 4,
  "nbformat_minor": 0,
  "metadata": {
    "colab": {
      "name": "JOCSON_Assignment4.ipynb",
      "provenance": [],
      "collapsed_sections": [],
      "authorship_tag": "ABX9TyN5Q8Hl0Kz5iSpRuN+dLyjK",
      "include_colab_link": true
    },
    "kernelspec": {
      "name": "python3",
      "display_name": "Python 3"
    },
    "language_info": {
      "name": "python"
    }
  },
  "cells": [
    {
      "cell_type": "markdown",
      "metadata": {
        "id": "view-in-github",
        "colab_type": "text"
      },
      "source": [
        "<a href=\"https://colab.research.google.com/github/domsjcsn/Linear-ALgebra---Python/blob/main/JOCSON-Assignment4.ipynb\" target=\"_parent\"><img src=\"https://colab.research.google.com/assets/colab-badge.svg\" alt=\"Open In Colab\"/></a>"
      ]
    },
    {
      "cell_type": "markdown",
      "metadata": {
        "id": "iYxL56CRecoE"
      },
      "source": [
        "## **FRANZ DOMINIQUE JOCSON**\n",
        "## **BS ECE 201**\n",
        "## **LINEAR ALGEBRA**\n",
        "\n",
        "## ***LABORATORY 4: MATRICES***"
      ]
    },
    {
      "cell_type": "code",
      "metadata": {
        "id": "UgFPE2_ZeCdq"
      },
      "source": [
        "import numpy as np \n",
        "import matplotlib.pyplot as plt\n",
        "import scipy.linalg as la\n",
        "%matplotlib inline"
      ],
      "execution_count": 100,
      "outputs": []
    },
    {
      "cell_type": "markdown",
      "metadata": {
        "id": "iU9jU0nsegxx"
      },
      "source": [
        "### **MATRICES**\n",
        "<blockquote>One of the basics of modern computing is the use of matrices and its syllabary. From a huge number of complex and inter-related equations from 2D equations, matrices is considered a useful representation. "
      ]
    },
    {
      "cell_type": "markdown",
      "metadata": {
        "id": "yF3IPB1yoHdD"
      },
      "source": [
        "## **TASK 1**\n",
        "<blockquote>\n",
        "Create a function named mat_desc() that througouhly describes a matrix, it should:\n",
        "\n",
        "1. Displays the shape, size, and rank of the matrix.\n",
        "2.Displays whether the matrix is square or non-square.\n",
        "3.Displays whether the matrix is an empty matrix.\n",
        "4.Displays if the matrix is an identity, ones, or zeros matrix\n",
        "\n",
        "Use sample matrices in which their shapes are not lower than $(3,3)$. In your methodology, create a flowchart discuss the functions and methods you have done. Present your results in the results section showing the description of each matrix you have declared."
      ]
    },
    {
      "cell_type": "code",
      "metadata": {
        "id": "VG3SYZFCoT0g"
      },
      "source": [
        "def desc_mat(matrix):\n",
        "    print(f'Matrix:\\n{matrix}\\n\\nShape:\\t{matrix.shape}\\nRank:\\t{matrix.ndim}\\n')"
      ],
      "execution_count": 101,
      "outputs": []
    },
    {
      "cell_type": "markdown",
      "metadata": {
        "id": "S0szgROR2Qji"
      },
      "source": [
        "## **MATRIX DECLARATION**"
      ]
    },
    {
      "cell_type": "code",
      "metadata": {
        "id": "neGAZLau2P6F"
      },
      "source": [
        "## Null Matrix\n",
        "null_mat = np.array ([])"
      ],
      "execution_count": 102,
      "outputs": []
    },
    {
      "cell_type": "code",
      "metadata": {
        "id": "EmTaBoQT2YfD"
      },
      "source": [
        "## Zero Matrix\n",
        "zero_mat_sqr = np.zeros((3,3))"
      ],
      "execution_count": 103,
      "outputs": []
    },
    {
      "cell_type": "code",
      "metadata": {
        "id": "ns7BB7aw2eE7"
      },
      "source": [
        "## Ones Matrix \n",
        "ones_mat_sqr = np.ones((3,3))"
      ],
      "execution_count": 104,
      "outputs": []
    },
    {
      "cell_type": "code",
      "metadata": {
        "id": "Y9cynStj2kI0"
      },
      "source": [
        "## Diagonal Matrix \n",
        "A = np.array([\n",
        "    [3, 0, 0],\n",
        "    [0, 3, 0],\n",
        "    [0, 0, 9]          \n",
        "\n",
        "])\n"
      ],
      "execution_count": 105,
      "outputs": []
    },
    {
      "cell_type": "code",
      "metadata": {
        "id": "0W9XNjYl2wHd"
      },
      "source": [
        "## Identity Matrix\n",
        "# np.identity(3)"
      ],
      "execution_count": 106,
      "outputs": []
    },
    {
      "cell_type": "code",
      "metadata": {
        "id": "BM4v3MmG2zq4"
      },
      "source": [
        "## Upper Triangular Matrix\n",
        "B = np.array([\n",
        "    [1, 8, 1],\n",
        "    [0, 4, 7],\n",
        "    [0, 0, 9]         \n",
        "])"
      ],
      "execution_count": 107,
      "outputs": []
    },
    {
      "cell_type": "code",
      "metadata": {
        "id": "wIvP9TzO28hU"
      },
      "source": [
        "#Lower Triangular Matrix\n",
        "C = np.array([\n",
        "    [2, 0, 0],\n",
        "    [6, 4, 0],\n",
        "    [7, 7, 1]          \n",
        "\n",
        "])"
      ],
      "execution_count": 108,
      "outputs": []
    },
    {
      "cell_type": "markdown",
      "metadata": {
        "id": "HZrAxXVN3Lj2"
      },
      "source": [
        "## ***TEST AREA***"
      ]
    },
    {
      "cell_type": "code",
      "metadata": {
        "colab": {
          "base_uri": "https://localhost:8080/"
        },
        "id": "Ra8DOegf6YCx",
        "outputId": "a4e095d2-3123-4d29-8f58-a495c6c538e1"
      },
      "source": [
        "## Null Matrix\n",
        "desc_mat(null_mat)"
      ],
      "execution_count": 109,
      "outputs": [
        {
          "output_type": "stream",
          "name": "stdout",
          "text": [
            "Matrix:\n",
            "[]\n",
            "\n",
            "Shape:\t(0,)\n",
            "Rank:\t1\n",
            "\n"
          ]
        }
      ]
    },
    {
      "cell_type": "code",
      "metadata": {
        "colab": {
          "base_uri": "https://localhost:8080/"
        },
        "id": "zHa-YLrR6X_r",
        "outputId": "cd8a1fd4-9516-4926-ba64-c851cc636822"
      },
      "source": [
        "## Zero Matrix\n",
        "desc_mat(zero_mat_sqr)"
      ],
      "execution_count": 110,
      "outputs": [
        {
          "output_type": "stream",
          "name": "stdout",
          "text": [
            "Matrix:\n",
            "[[0. 0. 0.]\n",
            " [0. 0. 0.]\n",
            " [0. 0. 0.]]\n",
            "\n",
            "Shape:\t(3, 3)\n",
            "Rank:\t2\n",
            "\n"
          ]
        }
      ]
    },
    {
      "cell_type": "code",
      "metadata": {
        "colab": {
          "base_uri": "https://localhost:8080/"
        },
        "id": "v8ShI_PJ6X7M",
        "outputId": "1a4a159e-a2da-4dde-baa2-8d9c3d121732"
      },
      "source": [
        "## Ones Matrix\n",
        "desc_mat(ones_mat_sqr)"
      ],
      "execution_count": 111,
      "outputs": [
        {
          "output_type": "stream",
          "name": "stdout",
          "text": [
            "Matrix:\n",
            "[[1. 1. 1.]\n",
            " [1. 1. 1.]\n",
            " [1. 1. 1.]]\n",
            "\n",
            "Shape:\t(3, 3)\n",
            "Rank:\t2\n",
            "\n"
          ]
        }
      ]
    },
    {
      "cell_type": "code",
      "metadata": {
        "colab": {
          "base_uri": "https://localhost:8080/"
        },
        "id": "8AYNLzCn6X4U",
        "outputId": "2ba0a1d3-4c06-4fcc-fffd-ea6137985821"
      },
      "source": [
        "## Diagonal Matrix\n",
        "desc_mat(A)"
      ],
      "execution_count": 112,
      "outputs": [
        {
          "output_type": "stream",
          "name": "stdout",
          "text": [
            "Matrix:\n",
            "[[3 0 0]\n",
            " [0 3 0]\n",
            " [0 0 9]]\n",
            "\n",
            "Shape:\t(3, 3)\n",
            "Rank:\t2\n",
            "\n"
          ]
        }
      ]
    },
    {
      "cell_type": "code",
      "metadata": {
        "colab": {
          "base_uri": "https://localhost:8080/"
        },
        "id": "039H3xCv6X10",
        "outputId": "0432306a-90ac-456b-b87a-39ecc2075eb4"
      },
      "source": [
        "## Identity Matrix\n",
        "np.identity(3)"
      ],
      "execution_count": 113,
      "outputs": [
        {
          "output_type": "execute_result",
          "data": {
            "text/plain": [
              "array([[1., 0., 0.],\n",
              "       [0., 1., 0.],\n",
              "       [0., 0., 1.]])"
            ]
          },
          "metadata": {},
          "execution_count": 113
        }
      ]
    },
    {
      "cell_type": "code",
      "metadata": {
        "colab": {
          "base_uri": "https://localhost:8080/"
        },
        "id": "-uuVOvxL6Xzb",
        "outputId": "76437a97-3997-4472-c4f3-1691a6968bf6"
      },
      "source": [
        "## Upper Triangular Matrix\n",
        "desc_mat(B)"
      ],
      "execution_count": 114,
      "outputs": [
        {
          "output_type": "stream",
          "name": "stdout",
          "text": [
            "Matrix:\n",
            "[[1 8 1]\n",
            " [0 4 7]\n",
            " [0 0 9]]\n",
            "\n",
            "Shape:\t(3, 3)\n",
            "Rank:\t2\n",
            "\n"
          ]
        }
      ]
    },
    {
      "cell_type": "code",
      "metadata": {
        "colab": {
          "base_uri": "https://localhost:8080/"
        },
        "id": "V4WRU7nA68iz",
        "outputId": "233d5f85-ed9c-4ce9-d7ce-c42a133a5757"
      },
      "source": [
        "## Lower Triangular Matrix\n",
        "desc_mat(C)"
      ],
      "execution_count": 115,
      "outputs": [
        {
          "output_type": "stream",
          "name": "stdout",
          "text": [
            "Matrix:\n",
            "[[2 0 0]\n",
            " [6 4 0]\n",
            " [7 7 1]]\n",
            "\n",
            "Shape:\t(3, 3)\n",
            "Rank:\t2\n",
            "\n"
          ]
        }
      ]
    },
    {
      "cell_type": "markdown",
      "metadata": {
        "id": "oOmLb7airBIR"
      },
      "source": [
        "## **TASK 2**\n",
        "<blockquote>\n",
        "Create a function named mat_operations() that takes in two matrices a input parameters it should:\n",
        "\n",
        "1. Determines if the matrices are viable for operation and returns your own error message if they are not viable.\n",
        "\n",
        "2. Returns the sum of the matrices.\n",
        "\n",
        "3. Returns the differen of the matrices.\n",
        "\n",
        "4. Returns the element-wise multiplication of the matrices.\n",
        "\n",
        "5. Returns the element-wise division of the matrices.\n",
        "\n",
        "Use sample matrices in which their shapes are not lower than  (3,3) . In your methodology, create a flowchart discuss the functions and methods you have done. Present your results in the results section showing the description of each matrix you have declared."
      ]
    },
    {
      "cell_type": "code",
      "metadata": {
        "id": "pwPBiP_WrH74"
      },
      "source": [
        "def mat_operations(matrix):\n",
        "    print(f'Matrix:\\n{matrix}\\n\\nShape:\\t{matrix.shape}\\nRank:\\t{matrix.ndim}\\n')"
      ],
      "execution_count": 116,
      "outputs": []
    },
    {
      "cell_type": "code",
      "metadata": {
        "id": "E4BInIA4rMoC"
      },
      "source": [
        "## Addition\n",
        "A = np.array([\n",
        "   [3,2,9,],\n",
        "   [3,1,7],\n",
        "   [8,2,8],\n",
        "         \n",
        "])\n",
        "B = np.array([\n",
        "   [4,3,4],\n",
        "   [1,5,1],\n",
        "   [2,2,2]\n",
        "])\n"
      ],
      "execution_count": 117,
      "outputs": []
    },
    {
      "cell_type": "code",
      "metadata": {
        "id": "k_3gSF8LrPpo"
      },
      "source": [
        "## Subtraction\n",
        "D = np.array([\n",
        "    [5,2,2],\n",
        "    [4,6,6],\n",
        "    [1,8,1]\n",
        "])\n",
        "E = np.array([\n",
        "    [8,6,9],\n",
        "    [7,1,7],\n",
        "    [1,1,7]\n",
        "])"
      ],
      "execution_count": 118,
      "outputs": []
    },
    {
      "cell_type": "code",
      "metadata": {
        "id": "xOdNgFF_4ZGH"
      },
      "source": [
        "## Element-Wise Multiplication\n",
        "F = np.array([\n",
        "    [3,2,3],\n",
        "    [5,3,5],\n",
        "    [6,7,6]\n",
        "])\n",
        "G = np.array([\n",
        "    [4,3,4],\n",
        "    [1,1,7],\n",
        "    [0,0,6]\n",
        "])"
      ],
      "execution_count": 119,
      "outputs": []
    },
    {
      "cell_type": "code",
      "metadata": {
        "id": "_24SeI4a4iaR"
      },
      "source": [
        "## Element-Wise Division\n",
        "H = np.array([\n",
        "    [11,13,21],\n",
        "    [16,8,0],\n",
        "    [21,24,11]\n",
        "])\n",
        "I = np.array([\n",
        "    [3,8,5],\n",
        "    [8,5,2],\n",
        "    [11,15,2]\n",
        "])"
      ],
      "execution_count": 120,
      "outputs": []
    },
    {
      "cell_type": "markdown",
      "metadata": {
        "id": "KiTGAnwR4ukC"
      },
      "source": [
        "## **TEST AREA**"
      ]
    },
    {
      "cell_type": "code",
      "metadata": {
        "colab": {
          "base_uri": "https://localhost:8080/"
        },
        "id": "mxh_kisv4w0z",
        "outputId": "0c5912d5-b036-4ef2-e0dd-4da885e5da61"
      },
      "source": [
        "## Addition\n",
        "C = A+B \n",
        "mat_operations(C)"
      ],
      "execution_count": 121,
      "outputs": [
        {
          "output_type": "stream",
          "name": "stdout",
          "text": [
            "Matrix:\n",
            "[[ 7  5 13]\n",
            " [ 4  6  8]\n",
            " [10  4 10]]\n",
            "\n",
            "Shape:\t(3, 3)\n",
            "Rank:\t2\n",
            "\n"
          ]
        }
      ]
    },
    {
      "cell_type": "code",
      "metadata": {
        "colab": {
          "base_uri": "https://localhost:8080/"
        },
        "id": "Tjd1azGG41hI",
        "outputId": "71072f7f-8925-4ba3-d2a2-39e2d7b5c96d"
      },
      "source": [
        "np.add(A,B)"
      ],
      "execution_count": 122,
      "outputs": [
        {
          "output_type": "execute_result",
          "data": {
            "text/plain": [
              "array([[ 7,  5, 13],\n",
              "       [ 4,  6,  8],\n",
              "       [10,  4, 10]])"
            ]
          },
          "metadata": {},
          "execution_count": 122
        }
      ]
    },
    {
      "cell_type": "code",
      "metadata": {
        "colab": {
          "base_uri": "https://localhost:8080/"
        },
        "id": "vkKISHK841bz",
        "outputId": "7ed744f0-bd17-4042-e384-3393487dd9d0"
      },
      "source": [
        "## Subtraction\n",
        "S = D-E\n",
        "mat_operations(S)"
      ],
      "execution_count": 123,
      "outputs": [
        {
          "output_type": "stream",
          "name": "stdout",
          "text": [
            "Matrix:\n",
            "[[-3 -4 -7]\n",
            " [-3  5 -1]\n",
            " [ 0  7 -6]]\n",
            "\n",
            "Shape:\t(3, 3)\n",
            "Rank:\t2\n",
            "\n"
          ]
        }
      ]
    },
    {
      "cell_type": "code",
      "metadata": {
        "colab": {
          "base_uri": "https://localhost:8080/"
        },
        "id": "zHPmIjS748qE",
        "outputId": "5faadca0-7800-4efe-f427-77347d12118b"
      },
      "source": [
        "np.subtract(D,E)"
      ],
      "execution_count": 124,
      "outputs": [
        {
          "output_type": "execute_result",
          "data": {
            "text/plain": [
              "array([[-3, -4, -7],\n",
              "       [-3,  5, -1],\n",
              "       [ 0,  7, -6]])"
            ]
          },
          "metadata": {},
          "execution_count": 124
        }
      ]
    },
    {
      "cell_type": "code",
      "metadata": {
        "colab": {
          "base_uri": "https://localhost:8080/"
        },
        "id": "QE9bHLOF4_i8",
        "outputId": "7f10ba77-6db3-487c-bf33-11a1a55bb353"
      },
      "source": [
        "## element-wise multiplication\n",
        "M = F*G\n",
        "mat_operations(M)"
      ],
      "execution_count": 125,
      "outputs": [
        {
          "output_type": "stream",
          "name": "stdout",
          "text": [
            "Matrix:\n",
            "[[12  6 12]\n",
            " [ 5  3 35]\n",
            " [ 0  0 36]]\n",
            "\n",
            "Shape:\t(3, 3)\n",
            "Rank:\t2\n",
            "\n"
          ]
        }
      ]
    },
    {
      "cell_type": "code",
      "metadata": {
        "colab": {
          "base_uri": "https://localhost:8080/"
        },
        "id": "fcoqSrwq5BzT",
        "outputId": "97f302d2-3f34-407d-cfe0-4019a25202c4"
      },
      "source": [
        "np.multiply(F,G)"
      ],
      "execution_count": 126,
      "outputs": [
        {
          "output_type": "execute_result",
          "data": {
            "text/plain": [
              "array([[12,  6, 12],\n",
              "       [ 5,  3, 35],\n",
              "       [ 0,  0, 36]])"
            ]
          },
          "metadata": {},
          "execution_count": 126
        }
      ]
    },
    {
      "cell_type": "code",
      "metadata": {
        "colab": {
          "base_uri": "https://localhost:8080/"
        },
        "id": "5x_UX_gs5DtD",
        "outputId": "de2c7fe2-5439-4696-b550-134ef2117075"
      },
      "source": [
        "2*F"
      ],
      "execution_count": 127,
      "outputs": [
        {
          "output_type": "execute_result",
          "data": {
            "text/plain": [
              "array([[ 6,  4,  6],\n",
              "       [10,  6, 10],\n",
              "       [12, 14, 12]])"
            ]
          },
          "metadata": {},
          "execution_count": 127
        }
      ]
    },
    {
      "cell_type": "code",
      "metadata": {
        "colab": {
          "base_uri": "https://localhost:8080/"
        },
        "id": "68msj_a05FUA",
        "outputId": "f624b936-af44-49f9-c5de-bb7f1cab2651"
      },
      "source": [
        "4*G"
      ],
      "execution_count": 128,
      "outputs": [
        {
          "output_type": "execute_result",
          "data": {
            "text/plain": [
              "array([[16, 12, 16],\n",
              "       [ 4,  4, 28],\n",
              "       [ 0,  0, 24]])"
            ]
          },
          "metadata": {},
          "execution_count": 128
        }
      ]
    },
    {
      "cell_type": "code",
      "metadata": {
        "colab": {
          "base_uri": "https://localhost:8080/"
        },
        "id": "Nn8N0vjQ5HY_",
        "outputId": "a77186c9-e6ba-485d-b0fb-52fc30748ff6"
      },
      "source": [
        "## element-wise division\n",
        "V = H/I\n",
        "mat_operations(V)"
      ],
      "execution_count": 129,
      "outputs": [
        {
          "output_type": "stream",
          "name": "stdout",
          "text": [
            "Matrix:\n",
            "[[3.66666667 1.625      4.2       ]\n",
            " [2.         1.6        0.        ]\n",
            " [1.90909091 1.6        5.5       ]]\n",
            "\n",
            "Shape:\t(3, 3)\n",
            "Rank:\t2\n",
            "\n"
          ]
        }
      ]
    },
    {
      "cell_type": "code",
      "metadata": {
        "colab": {
          "base_uri": "https://localhost:8080/"
        },
        "id": "Vh_svH6O5KMP",
        "outputId": "980fa8e1-724c-40e8-b3a8-e79000bb151f"
      },
      "source": [
        "np.divide(H,I)"
      ],
      "execution_count": 130,
      "outputs": [
        {
          "output_type": "execute_result",
          "data": {
            "text/plain": [
              "array([[3.66666667, 1.625     , 4.2       ],\n",
              "       [2.        , 1.6       , 0.        ],\n",
              "       [1.90909091, 1.6       , 5.5       ]])"
            ]
          },
          "metadata": {},
          "execution_count": 130
        }
      ]
    },
    {
      "cell_type": "code",
      "metadata": {
        "colab": {
          "base_uri": "https://localhost:8080/"
        },
        "id": "z3GQd6m55MYF",
        "outputId": "789561f0-05cf-43a2-c92a-4afb43d36533"
      },
      "source": [
        "H/5"
      ],
      "execution_count": 131,
      "outputs": [
        {
          "output_type": "execute_result",
          "data": {
            "text/plain": [
              "array([[2.2, 2.6, 4.2],\n",
              "       [3.2, 1.6, 0. ],\n",
              "       [4.2, 4.8, 2.2]])"
            ]
          },
          "metadata": {},
          "execution_count": 131
        }
      ]
    },
    {
      "cell_type": "code",
      "metadata": {
        "colab": {
          "base_uri": "https://localhost:8080/"
        },
        "id": "ZcjNclKY5NWn",
        "outputId": "0cd62339-6a9d-421f-b757-38d3fe171d03"
      },
      "source": [
        "1/I"
      ],
      "execution_count": 132,
      "outputs": [
        {
          "output_type": "execute_result",
          "data": {
            "text/plain": [
              "array([[0.33333333, 0.125     , 0.2       ],\n",
              "       [0.125     , 0.2       , 0.5       ],\n",
              "       [0.09090909, 0.06666667, 0.5       ]])"
            ]
          },
          "metadata": {},
          "execution_count": 132
        }
      ]
    },
    {
      "cell_type": "markdown",
      "metadata": {
        "id": "PFFLXx0ArxM0"
      },
      "source": [
        "## **CONCLUSION**\n",
        "<blockquote>\n",
        "This laboratory activity helped the students to widen their knowledge about Matrices and operations and how can it be solved in Python. Like what our professor taught us, the codes used to define matrices are different. Utilizing matrices and operations can help us in solving complex equations and problems, thus making our work lighter and easier. "
      ]
    }
  ]
}